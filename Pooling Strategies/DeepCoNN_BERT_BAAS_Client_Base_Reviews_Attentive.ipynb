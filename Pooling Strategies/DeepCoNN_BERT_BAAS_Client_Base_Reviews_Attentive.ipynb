{
  "nbformat": 4,
  "nbformat_minor": 0,
  "metadata": {
    "accelerator": "GPU",
    "colab": {
      "name": "DeepCoNN_BERT_BAAS-Client_Base-Reviews-Attentive.ipynb",
      "provenance": [],
      "collapsed_sections": [],
      "machine_shape": "hm"
    },
    "kernelspec": {
      "display_name": "Python 3",
      "language": "python",
      "name": "python3"
    },
    "language_info": {
      "codemirror_mode": {
        "name": "ipython",
        "version": 3
      },
      "file_extension": ".py",
      "mimetype": "text/x-python",
      "name": "python",
      "nbconvert_exporter": "python",
      "pygments_lexer": "ipython3",
      "version": "3.7.6"
    },
    "widgets": {
      "application/vnd.jupyter.widget-state+json": {
        "e876b8bb5d4b4b4da01e1f5b81ff99f4": {
          "model_module": "@jupyter-widgets/controls",
          "model_name": "HBoxModel",
          "state": {
            "_view_name": "HBoxView",
            "_dom_classes": [],
            "_model_name": "HBoxModel",
            "_view_module": "@jupyter-widgets/controls",
            "_model_module_version": "1.5.0",
            "_view_count": null,
            "_view_module_version": "1.5.0",
            "box_style": "",
            "layout": "IPY_MODEL_52aab39361ed42b09774eb683f0bcf97",
            "_model_module": "@jupyter-widgets/controls",
            "children": [
              "IPY_MODEL_3f2bd00ef0f748cbbdec2c67227b1fb3",
              "IPY_MODEL_e4071010490844ef99631a394a5dc8b5"
            ]
          }
        },
        "52aab39361ed42b09774eb683f0bcf97": {
          "model_module": "@jupyter-widgets/base",
          "model_name": "LayoutModel",
          "state": {
            "_view_name": "LayoutView",
            "grid_template_rows": null,
            "right": null,
            "justify_content": null,
            "_view_module": "@jupyter-widgets/base",
            "overflow": null,
            "_model_module_version": "1.2.0",
            "_view_count": null,
            "flex_flow": null,
            "width": null,
            "min_width": null,
            "border": null,
            "align_items": null,
            "bottom": null,
            "_model_module": "@jupyter-widgets/base",
            "top": null,
            "grid_column": null,
            "overflow_y": null,
            "overflow_x": null,
            "grid_auto_flow": null,
            "grid_area": null,
            "grid_template_columns": null,
            "flex": null,
            "_model_name": "LayoutModel",
            "justify_items": null,
            "grid_row": null,
            "max_height": null,
            "align_content": null,
            "visibility": null,
            "align_self": null,
            "height": null,
            "min_height": null,
            "padding": null,
            "grid_auto_rows": null,
            "grid_gap": null,
            "max_width": null,
            "order": null,
            "_view_module_version": "1.2.0",
            "grid_template_areas": null,
            "object_position": null,
            "object_fit": null,
            "grid_auto_columns": null,
            "margin": null,
            "display": null,
            "left": null
          }
        },
        "3f2bd00ef0f748cbbdec2c67227b1fb3": {
          "model_module": "@jupyter-widgets/controls",
          "model_name": "FloatProgressModel",
          "state": {
            "_view_name": "ProgressView",
            "style": "IPY_MODEL_2f761a2ec42e4eacbf9a6dc02af00cb2",
            "_dom_classes": [],
            "description": "100%",
            "_model_name": "FloatProgressModel",
            "bar_style": "success",
            "max": 19416,
            "_view_module": "@jupyter-widgets/controls",
            "_model_module_version": "1.5.0",
            "value": 19416,
            "_view_count": null,
            "_view_module_version": "1.5.0",
            "orientation": "horizontal",
            "min": 0,
            "description_tooltip": null,
            "_model_module": "@jupyter-widgets/controls",
            "layout": "IPY_MODEL_356bb19687204633bcd0fdbc158e8c55"
          }
        },
        "e4071010490844ef99631a394a5dc8b5": {
          "model_module": "@jupyter-widgets/controls",
          "model_name": "HTMLModel",
          "state": {
            "_view_name": "HTMLView",
            "style": "IPY_MODEL_5fb493859e3144108c7fcd5a6d1f1eb8",
            "_dom_classes": [],
            "description": "",
            "_model_name": "HTMLModel",
            "placeholder": "​",
            "_view_module": "@jupyter-widgets/controls",
            "_model_module_version": "1.5.0",
            "value": " 19416/19416 [08:08&lt;00:00, 39.74it/s]",
            "_view_count": null,
            "_view_module_version": "1.5.0",
            "description_tooltip": null,
            "_model_module": "@jupyter-widgets/controls",
            "layout": "IPY_MODEL_742eb86d913a493cbc6e8f8f40f1f637"
          }
        },
        "2f761a2ec42e4eacbf9a6dc02af00cb2": {
          "model_module": "@jupyter-widgets/controls",
          "model_name": "ProgressStyleModel",
          "state": {
            "_view_name": "StyleView",
            "_model_name": "ProgressStyleModel",
            "description_width": "initial",
            "_view_module": "@jupyter-widgets/base",
            "_model_module_version": "1.5.0",
            "_view_count": null,
            "_view_module_version": "1.2.0",
            "bar_color": null,
            "_model_module": "@jupyter-widgets/controls"
          }
        },
        "356bb19687204633bcd0fdbc158e8c55": {
          "model_module": "@jupyter-widgets/base",
          "model_name": "LayoutModel",
          "state": {
            "_view_name": "LayoutView",
            "grid_template_rows": null,
            "right": null,
            "justify_content": null,
            "_view_module": "@jupyter-widgets/base",
            "overflow": null,
            "_model_module_version": "1.2.0",
            "_view_count": null,
            "flex_flow": null,
            "width": null,
            "min_width": null,
            "border": null,
            "align_items": null,
            "bottom": null,
            "_model_module": "@jupyter-widgets/base",
            "top": null,
            "grid_column": null,
            "overflow_y": null,
            "overflow_x": null,
            "grid_auto_flow": null,
            "grid_area": null,
            "grid_template_columns": null,
            "flex": null,
            "_model_name": "LayoutModel",
            "justify_items": null,
            "grid_row": null,
            "max_height": null,
            "align_content": null,
            "visibility": null,
            "align_self": null,
            "height": null,
            "min_height": null,
            "padding": null,
            "grid_auto_rows": null,
            "grid_gap": null,
            "max_width": null,
            "order": null,
            "_view_module_version": "1.2.0",
            "grid_template_areas": null,
            "object_position": null,
            "object_fit": null,
            "grid_auto_columns": null,
            "margin": null,
            "display": null,
            "left": null
          }
        },
        "5fb493859e3144108c7fcd5a6d1f1eb8": {
          "model_module": "@jupyter-widgets/controls",
          "model_name": "DescriptionStyleModel",
          "state": {
            "_view_name": "StyleView",
            "_model_name": "DescriptionStyleModel",
            "description_width": "",
            "_view_module": "@jupyter-widgets/base",
            "_model_module_version": "1.5.0",
            "_view_count": null,
            "_view_module_version": "1.2.0",
            "_model_module": "@jupyter-widgets/controls"
          }
        },
        "742eb86d913a493cbc6e8f8f40f1f637": {
          "model_module": "@jupyter-widgets/base",
          "model_name": "LayoutModel",
          "state": {
            "_view_name": "LayoutView",
            "grid_template_rows": null,
            "right": null,
            "justify_content": null,
            "_view_module": "@jupyter-widgets/base",
            "overflow": null,
            "_model_module_version": "1.2.0",
            "_view_count": null,
            "flex_flow": null,
            "width": null,
            "min_width": null,
            "border": null,
            "align_items": null,
            "bottom": null,
            "_model_module": "@jupyter-widgets/base",
            "top": null,
            "grid_column": null,
            "overflow_y": null,
            "overflow_x": null,
            "grid_auto_flow": null,
            "grid_area": null,
            "grid_template_columns": null,
            "flex": null,
            "_model_name": "LayoutModel",
            "justify_items": null,
            "grid_row": null,
            "max_height": null,
            "align_content": null,
            "visibility": null,
            "align_self": null,
            "height": null,
            "min_height": null,
            "padding": null,
            "grid_auto_rows": null,
            "grid_gap": null,
            "max_width": null,
            "order": null,
            "_view_module_version": "1.2.0",
            "grid_template_areas": null,
            "object_position": null,
            "object_fit": null,
            "grid_auto_columns": null,
            "margin": null,
            "display": null,
            "left": null
          }
        },
        "ca0e1acf0f354e858e666a6e30845107": {
          "model_module": "@jupyter-widgets/controls",
          "model_name": "HBoxModel",
          "state": {
            "_view_name": "HBoxView",
            "_dom_classes": [],
            "_model_name": "HBoxModel",
            "_view_module": "@jupyter-widgets/controls",
            "_model_module_version": "1.5.0",
            "_view_count": null,
            "_view_module_version": "1.5.0",
            "box_style": "",
            "layout": "IPY_MODEL_e6260ed07dcc4dc3bd7a229c9103b503",
            "_model_module": "@jupyter-widgets/controls",
            "children": [
              "IPY_MODEL_f168de1105364bbeb4ddb49a45a6c5fe",
              "IPY_MODEL_930848bbcad245cb98d196fd2f41ed54"
            ]
          }
        },
        "e6260ed07dcc4dc3bd7a229c9103b503": {
          "model_module": "@jupyter-widgets/base",
          "model_name": "LayoutModel",
          "state": {
            "_view_name": "LayoutView",
            "grid_template_rows": null,
            "right": null,
            "justify_content": null,
            "_view_module": "@jupyter-widgets/base",
            "overflow": null,
            "_model_module_version": "1.2.0",
            "_view_count": null,
            "flex_flow": null,
            "width": null,
            "min_width": null,
            "border": null,
            "align_items": null,
            "bottom": null,
            "_model_module": "@jupyter-widgets/base",
            "top": null,
            "grid_column": null,
            "overflow_y": null,
            "overflow_x": null,
            "grid_auto_flow": null,
            "grid_area": null,
            "grid_template_columns": null,
            "flex": null,
            "_model_name": "LayoutModel",
            "justify_items": null,
            "grid_row": null,
            "max_height": null,
            "align_content": null,
            "visibility": null,
            "align_self": null,
            "height": null,
            "min_height": null,
            "padding": null,
            "grid_auto_rows": null,
            "grid_gap": null,
            "max_width": null,
            "order": null,
            "_view_module_version": "1.2.0",
            "grid_template_areas": null,
            "object_position": null,
            "object_fit": null,
            "grid_auto_columns": null,
            "margin": null,
            "display": null,
            "left": null
          }
        },
        "f168de1105364bbeb4ddb49a45a6c5fe": {
          "model_module": "@jupyter-widgets/controls",
          "model_name": "FloatProgressModel",
          "state": {
            "_view_name": "ProgressView",
            "style": "IPY_MODEL_d72ae47501ce4891b663d422e2ced282",
            "_dom_classes": [],
            "description": "100%",
            "_model_name": "FloatProgressModel",
            "bar_style": "success",
            "max": 2152,
            "_view_module": "@jupyter-widgets/controls",
            "_model_module_version": "1.5.0",
            "value": 2152,
            "_view_count": null,
            "_view_module_version": "1.5.0",
            "orientation": "horizontal",
            "min": 0,
            "description_tooltip": null,
            "_model_module": "@jupyter-widgets/controls",
            "layout": "IPY_MODEL_5f2454d9e39241a1a956f87a034d9061"
          }
        },
        "930848bbcad245cb98d196fd2f41ed54": {
          "model_module": "@jupyter-widgets/controls",
          "model_name": "HTMLModel",
          "state": {
            "_view_name": "HTMLView",
            "style": "IPY_MODEL_25b9ba61a7ac4d1a801586226a7acaf0",
            "_dom_classes": [],
            "description": "",
            "_model_name": "HTMLModel",
            "placeholder": "​",
            "_view_module": "@jupyter-widgets/controls",
            "_model_module_version": "1.5.0",
            "value": " 2152/2152 [01:34&lt;00:00, 22.89it/s]",
            "_view_count": null,
            "_view_module_version": "1.5.0",
            "description_tooltip": null,
            "_model_module": "@jupyter-widgets/controls",
            "layout": "IPY_MODEL_a968bedf3e4844cb9dc90d00070d2c45"
          }
        },
        "d72ae47501ce4891b663d422e2ced282": {
          "model_module": "@jupyter-widgets/controls",
          "model_name": "ProgressStyleModel",
          "state": {
            "_view_name": "StyleView",
            "_model_name": "ProgressStyleModel",
            "description_width": "initial",
            "_view_module": "@jupyter-widgets/base",
            "_model_module_version": "1.5.0",
            "_view_count": null,
            "_view_module_version": "1.2.0",
            "bar_color": null,
            "_model_module": "@jupyter-widgets/controls"
          }
        },
        "5f2454d9e39241a1a956f87a034d9061": {
          "model_module": "@jupyter-widgets/base",
          "model_name": "LayoutModel",
          "state": {
            "_view_name": "LayoutView",
            "grid_template_rows": null,
            "right": null,
            "justify_content": null,
            "_view_module": "@jupyter-widgets/base",
            "overflow": null,
            "_model_module_version": "1.2.0",
            "_view_count": null,
            "flex_flow": null,
            "width": null,
            "min_width": null,
            "border": null,
            "align_items": null,
            "bottom": null,
            "_model_module": "@jupyter-widgets/base",
            "top": null,
            "grid_column": null,
            "overflow_y": null,
            "overflow_x": null,
            "grid_auto_flow": null,
            "grid_area": null,
            "grid_template_columns": null,
            "flex": null,
            "_model_name": "LayoutModel",
            "justify_items": null,
            "grid_row": null,
            "max_height": null,
            "align_content": null,
            "visibility": null,
            "align_self": null,
            "height": null,
            "min_height": null,
            "padding": null,
            "grid_auto_rows": null,
            "grid_gap": null,
            "max_width": null,
            "order": null,
            "_view_module_version": "1.2.0",
            "grid_template_areas": null,
            "object_position": null,
            "object_fit": null,
            "grid_auto_columns": null,
            "margin": null,
            "display": null,
            "left": null
          }
        },
        "25b9ba61a7ac4d1a801586226a7acaf0": {
          "model_module": "@jupyter-widgets/controls",
          "model_name": "DescriptionStyleModel",
          "state": {
            "_view_name": "StyleView",
            "_model_name": "DescriptionStyleModel",
            "description_width": "",
            "_view_module": "@jupyter-widgets/base",
            "_model_module_version": "1.5.0",
            "_view_count": null,
            "_view_module_version": "1.2.0",
            "_model_module": "@jupyter-widgets/controls"
          }
        },
        "a968bedf3e4844cb9dc90d00070d2c45": {
          "model_module": "@jupyter-widgets/base",
          "model_name": "LayoutModel",
          "state": {
            "_view_name": "LayoutView",
            "grid_template_rows": null,
            "right": null,
            "justify_content": null,
            "_view_module": "@jupyter-widgets/base",
            "overflow": null,
            "_model_module_version": "1.2.0",
            "_view_count": null,
            "flex_flow": null,
            "width": null,
            "min_width": null,
            "border": null,
            "align_items": null,
            "bottom": null,
            "_model_module": "@jupyter-widgets/base",
            "top": null,
            "grid_column": null,
            "overflow_y": null,
            "overflow_x": null,
            "grid_auto_flow": null,
            "grid_area": null,
            "grid_template_columns": null,
            "flex": null,
            "_model_name": "LayoutModel",
            "justify_items": null,
            "grid_row": null,
            "max_height": null,
            "align_content": null,
            "visibility": null,
            "align_self": null,
            "height": null,
            "min_height": null,
            "padding": null,
            "grid_auto_rows": null,
            "grid_gap": null,
            "max_width": null,
            "order": null,
            "_view_module_version": "1.2.0",
            "grid_template_areas": null,
            "object_position": null,
            "object_fit": null,
            "grid_auto_columns": null,
            "margin": null,
            "display": null,
            "left": null
          }
        },
        "de44530767704519acf2851aefedcd09": {
          "model_module": "@jupyter-widgets/controls",
          "model_name": "HBoxModel",
          "state": {
            "_view_name": "HBoxView",
            "_dom_classes": [],
            "_model_name": "HBoxModel",
            "_view_module": "@jupyter-widgets/controls",
            "_model_module_version": "1.5.0",
            "_view_count": null,
            "_view_module_version": "1.5.0",
            "box_style": "",
            "layout": "IPY_MODEL_d804fd7aeda947dbaf57b27f88823df9",
            "_model_module": "@jupyter-widgets/controls",
            "children": [
              "IPY_MODEL_0d274c646d974d53bfbf3f2ba1017638",
              "IPY_MODEL_d24539171d4f40eab0ee49d00bbd66f6"
            ]
          }
        },
        "d804fd7aeda947dbaf57b27f88823df9": {
          "model_module": "@jupyter-widgets/base",
          "model_name": "LayoutModel",
          "state": {
            "_view_name": "LayoutView",
            "grid_template_rows": null,
            "right": null,
            "justify_content": null,
            "_view_module": "@jupyter-widgets/base",
            "overflow": null,
            "_model_module_version": "1.2.0",
            "_view_count": null,
            "flex_flow": null,
            "width": null,
            "min_width": null,
            "border": null,
            "align_items": null,
            "bottom": null,
            "_model_module": "@jupyter-widgets/base",
            "top": null,
            "grid_column": null,
            "overflow_y": null,
            "overflow_x": null,
            "grid_auto_flow": null,
            "grid_area": null,
            "grid_template_columns": null,
            "flex": null,
            "_model_name": "LayoutModel",
            "justify_items": null,
            "grid_row": null,
            "max_height": null,
            "align_content": null,
            "visibility": null,
            "align_self": null,
            "height": null,
            "min_height": null,
            "padding": null,
            "grid_auto_rows": null,
            "grid_gap": null,
            "max_width": null,
            "order": null,
            "_view_module_version": "1.2.0",
            "grid_template_areas": null,
            "object_position": null,
            "object_fit": null,
            "grid_auto_columns": null,
            "margin": null,
            "display": null,
            "left": null
          }
        },
        "0d274c646d974d53bfbf3f2ba1017638": {
          "model_module": "@jupyter-widgets/controls",
          "model_name": "FloatProgressModel",
          "state": {
            "_view_name": "ProgressView",
            "style": "IPY_MODEL_cccef1ffdfe24f74936fe281ebbd3058",
            "_dom_classes": [],
            "description": "100%",
            "_model_name": "FloatProgressModel",
            "bar_style": "success",
            "max": 5358,
            "_view_module": "@jupyter-widgets/controls",
            "_model_module_version": "1.5.0",
            "value": 5358,
            "_view_count": null,
            "_view_module_version": "1.5.0",
            "orientation": "horizontal",
            "min": 0,
            "description_tooltip": null,
            "_model_module": "@jupyter-widgets/controls",
            "layout": "IPY_MODEL_47924e3c5deb404ca9968c419bc9a4c9"
          }
        },
        "d24539171d4f40eab0ee49d00bbd66f6": {
          "model_module": "@jupyter-widgets/controls",
          "model_name": "HTMLModel",
          "state": {
            "_view_name": "HTMLView",
            "style": "IPY_MODEL_0570ad54283c450d86638a59537ce2c7",
            "_dom_classes": [],
            "description": "",
            "_model_name": "HTMLModel",
            "placeholder": "​",
            "_view_module": "@jupyter-widgets/controls",
            "_model_module_version": "1.5.0",
            "value": " 5358/5358 [04:19&lt;00:00, 20.65it/s]",
            "_view_count": null,
            "_view_module_version": "1.5.0",
            "description_tooltip": null,
            "_model_module": "@jupyter-widgets/controls",
            "layout": "IPY_MODEL_f94714581f444b6b853df52f0584fc50"
          }
        },
        "cccef1ffdfe24f74936fe281ebbd3058": {
          "model_module": "@jupyter-widgets/controls",
          "model_name": "ProgressStyleModel",
          "state": {
            "_view_name": "StyleView",
            "_model_name": "ProgressStyleModel",
            "description_width": "initial",
            "_view_module": "@jupyter-widgets/base",
            "_model_module_version": "1.5.0",
            "_view_count": null,
            "_view_module_version": "1.2.0",
            "bar_color": null,
            "_model_module": "@jupyter-widgets/controls"
          }
        },
        "47924e3c5deb404ca9968c419bc9a4c9": {
          "model_module": "@jupyter-widgets/base",
          "model_name": "LayoutModel",
          "state": {
            "_view_name": "LayoutView",
            "grid_template_rows": null,
            "right": null,
            "justify_content": null,
            "_view_module": "@jupyter-widgets/base",
            "overflow": null,
            "_model_module_version": "1.2.0",
            "_view_count": null,
            "flex_flow": null,
            "width": null,
            "min_width": null,
            "border": null,
            "align_items": null,
            "bottom": null,
            "_model_module": "@jupyter-widgets/base",
            "top": null,
            "grid_column": null,
            "overflow_y": null,
            "overflow_x": null,
            "grid_auto_flow": null,
            "grid_area": null,
            "grid_template_columns": null,
            "flex": null,
            "_model_name": "LayoutModel",
            "justify_items": null,
            "grid_row": null,
            "max_height": null,
            "align_content": null,
            "visibility": null,
            "align_self": null,
            "height": null,
            "min_height": null,
            "padding": null,
            "grid_auto_rows": null,
            "grid_gap": null,
            "max_width": null,
            "order": null,
            "_view_module_version": "1.2.0",
            "grid_template_areas": null,
            "object_position": null,
            "object_fit": null,
            "grid_auto_columns": null,
            "margin": null,
            "display": null,
            "left": null
          }
        },
        "0570ad54283c450d86638a59537ce2c7": {
          "model_module": "@jupyter-widgets/controls",
          "model_name": "DescriptionStyleModel",
          "state": {
            "_view_name": "StyleView",
            "_model_name": "DescriptionStyleModel",
            "description_width": "",
            "_view_module": "@jupyter-widgets/base",
            "_model_module_version": "1.5.0",
            "_view_count": null,
            "_view_module_version": "1.2.0",
            "_model_module": "@jupyter-widgets/controls"
          }
        },
        "f94714581f444b6b853df52f0584fc50": {
          "model_module": "@jupyter-widgets/base",
          "model_name": "LayoutModel",
          "state": {
            "_view_name": "LayoutView",
            "grid_template_rows": null,
            "right": null,
            "justify_content": null,
            "_view_module": "@jupyter-widgets/base",
            "overflow": null,
            "_model_module_version": "1.2.0",
            "_view_count": null,
            "flex_flow": null,
            "width": null,
            "min_width": null,
            "border": null,
            "align_items": null,
            "bottom": null,
            "_model_module": "@jupyter-widgets/base",
            "top": null,
            "grid_column": null,
            "overflow_y": null,
            "overflow_x": null,
            "grid_auto_flow": null,
            "grid_area": null,
            "grid_template_columns": null,
            "flex": null,
            "_model_name": "LayoutModel",
            "justify_items": null,
            "grid_row": null,
            "max_height": null,
            "align_content": null,
            "visibility": null,
            "align_self": null,
            "height": null,
            "min_height": null,
            "padding": null,
            "grid_auto_rows": null,
            "grid_gap": null,
            "max_width": null,
            "order": null,
            "_view_module_version": "1.2.0",
            "grid_template_areas": null,
            "object_position": null,
            "object_fit": null,
            "grid_auto_columns": null,
            "margin": null,
            "display": null,
            "left": null
          }
        },
        "5d4d514857dc45eb87af86a9d5a21828": {
          "model_module": "@jupyter-widgets/controls",
          "model_name": "HBoxModel",
          "state": {
            "_view_name": "HBoxView",
            "_dom_classes": [],
            "_model_name": "HBoxModel",
            "_view_module": "@jupyter-widgets/controls",
            "_model_module_version": "1.5.0",
            "_view_count": null,
            "_view_module_version": "1.5.0",
            "box_style": "",
            "layout": "IPY_MODEL_147e35bb15db4234979664b4d2428967",
            "_model_module": "@jupyter-widgets/controls",
            "children": [
              "IPY_MODEL_2f5603c870814339a79c93da4a437247",
              "IPY_MODEL_dbbc410266a44e0192c4cc888a7bed04"
            ]
          }
        },
        "147e35bb15db4234979664b4d2428967": {
          "model_module": "@jupyter-widgets/base",
          "model_name": "LayoutModel",
          "state": {
            "_view_name": "LayoutView",
            "grid_template_rows": null,
            "right": null,
            "justify_content": null,
            "_view_module": "@jupyter-widgets/base",
            "overflow": null,
            "_model_module_version": "1.2.0",
            "_view_count": null,
            "flex_flow": null,
            "width": null,
            "min_width": null,
            "border": null,
            "align_items": null,
            "bottom": null,
            "_model_module": "@jupyter-widgets/base",
            "top": null,
            "grid_column": null,
            "overflow_y": null,
            "overflow_x": null,
            "grid_auto_flow": null,
            "grid_area": null,
            "grid_template_columns": null,
            "flex": null,
            "_model_name": "LayoutModel",
            "justify_items": null,
            "grid_row": null,
            "max_height": null,
            "align_content": null,
            "visibility": null,
            "align_self": null,
            "height": null,
            "min_height": null,
            "padding": null,
            "grid_auto_rows": null,
            "grid_gap": null,
            "max_width": null,
            "order": null,
            "_view_module_version": "1.2.0",
            "grid_template_areas": null,
            "object_position": null,
            "object_fit": null,
            "grid_auto_columns": null,
            "margin": null,
            "display": null,
            "left": null
          }
        },
        "2f5603c870814339a79c93da4a437247": {
          "model_module": "@jupyter-widgets/controls",
          "model_name": "FloatProgressModel",
          "state": {
            "_view_name": "ProgressView",
            "style": "IPY_MODEL_7e6b8d5a2b424beebcb1311aa182b865",
            "_dom_classes": [],
            "description": "",
            "_model_name": "FloatProgressModel",
            "bar_style": "success",
            "max": 1,
            "_view_module": "@jupyter-widgets/controls",
            "_model_module_version": "1.5.0",
            "value": 1,
            "_view_count": null,
            "_view_module_version": "1.5.0",
            "orientation": "horizontal",
            "min": 0,
            "description_tooltip": null,
            "_model_module": "@jupyter-widgets/controls",
            "layout": "IPY_MODEL_57df11f348f0489ca80431a039f135b2"
          }
        },
        "dbbc410266a44e0192c4cc888a7bed04": {
          "model_module": "@jupyter-widgets/controls",
          "model_name": "HTMLModel",
          "state": {
            "_view_name": "HTMLView",
            "style": "IPY_MODEL_b59e17ec264848d391a65d18720cec78",
            "_dom_classes": [],
            "description": "",
            "_model_name": "HTMLModel",
            "placeholder": "​",
            "_view_module": "@jupyter-widgets/controls",
            "_model_module_version": "1.5.0",
            "value": " 5358/? [02:47&lt;00:00, 31.91it/s]",
            "_view_count": null,
            "_view_module_version": "1.5.0",
            "description_tooltip": null,
            "_model_module": "@jupyter-widgets/controls",
            "layout": "IPY_MODEL_dbaedebb1dc54e6581fcc2984c1eba8c"
          }
        },
        "7e6b8d5a2b424beebcb1311aa182b865": {
          "model_module": "@jupyter-widgets/controls",
          "model_name": "ProgressStyleModel",
          "state": {
            "_view_name": "StyleView",
            "_model_name": "ProgressStyleModel",
            "description_width": "initial",
            "_view_module": "@jupyter-widgets/base",
            "_model_module_version": "1.5.0",
            "_view_count": null,
            "_view_module_version": "1.2.0",
            "bar_color": null,
            "_model_module": "@jupyter-widgets/controls"
          }
        },
        "57df11f348f0489ca80431a039f135b2": {
          "model_module": "@jupyter-widgets/base",
          "model_name": "LayoutModel",
          "state": {
            "_view_name": "LayoutView",
            "grid_template_rows": null,
            "right": null,
            "justify_content": null,
            "_view_module": "@jupyter-widgets/base",
            "overflow": null,
            "_model_module_version": "1.2.0",
            "_view_count": null,
            "flex_flow": null,
            "width": null,
            "min_width": null,
            "border": null,
            "align_items": null,
            "bottom": null,
            "_model_module": "@jupyter-widgets/base",
            "top": null,
            "grid_column": null,
            "overflow_y": null,
            "overflow_x": null,
            "grid_auto_flow": null,
            "grid_area": null,
            "grid_template_columns": null,
            "flex": null,
            "_model_name": "LayoutModel",
            "justify_items": null,
            "grid_row": null,
            "max_height": null,
            "align_content": null,
            "visibility": null,
            "align_self": null,
            "height": null,
            "min_height": null,
            "padding": null,
            "grid_auto_rows": null,
            "grid_gap": null,
            "max_width": null,
            "order": null,
            "_view_module_version": "1.2.0",
            "grid_template_areas": null,
            "object_position": null,
            "object_fit": null,
            "grid_auto_columns": null,
            "margin": null,
            "display": null,
            "left": null
          }
        },
        "b59e17ec264848d391a65d18720cec78": {
          "model_module": "@jupyter-widgets/controls",
          "model_name": "DescriptionStyleModel",
          "state": {
            "_view_name": "StyleView",
            "_model_name": "DescriptionStyleModel",
            "description_width": "",
            "_view_module": "@jupyter-widgets/base",
            "_model_module_version": "1.5.0",
            "_view_count": null,
            "_view_module_version": "1.2.0",
            "_model_module": "@jupyter-widgets/controls"
          }
        },
        "dbaedebb1dc54e6581fcc2984c1eba8c": {
          "model_module": "@jupyter-widgets/base",
          "model_name": "LayoutModel",
          "state": {
            "_view_name": "LayoutView",
            "grid_template_rows": null,
            "right": null,
            "justify_content": null,
            "_view_module": "@jupyter-widgets/base",
            "overflow": null,
            "_model_module_version": "1.2.0",
            "_view_count": null,
            "flex_flow": null,
            "width": null,
            "min_width": null,
            "border": null,
            "align_items": null,
            "bottom": null,
            "_model_module": "@jupyter-widgets/base",
            "top": null,
            "grid_column": null,
            "overflow_y": null,
            "overflow_x": null,
            "grid_auto_flow": null,
            "grid_area": null,
            "grid_template_columns": null,
            "flex": null,
            "_model_name": "LayoutModel",
            "justify_items": null,
            "grid_row": null,
            "max_height": null,
            "align_content": null,
            "visibility": null,
            "align_self": null,
            "height": null,
            "min_height": null,
            "padding": null,
            "grid_auto_rows": null,
            "grid_gap": null,
            "max_width": null,
            "order": null,
            "_view_module_version": "1.2.0",
            "grid_template_areas": null,
            "object_position": null,
            "object_fit": null,
            "grid_auto_columns": null,
            "margin": null,
            "display": null,
            "left": null
          }
        }
      }
    }
  },
  "cells": [
    {
      "cell_type": "code",
      "metadata": {
        "colab": {
          "base_uri": "https://localhost:8080/"
        },
        "id": "8781VXulmqia",
        "outputId": "a9274d05-6adb-4cbe-c626-25837095be21"
      },
      "source": [
        "# connect to GDrive for data\n",
        "# folder: https://drive.google.com/drive/folders/1z9qUAX7fQfcAOX7FH-CerkKfMCj6OxWX\n",
        "from google.colab import drive\n",
        "drive.mount('/content/drive')"
      ],
      "execution_count": null,
      "outputs": [
        {
          "output_type": "stream",
          "text": [
            "Mounted at /content/drive\n"
          ],
          "name": "stdout"
        }
      ]
    },
    {
      "cell_type": "code",
      "metadata": {
        "colab": {
          "base_uri": "https://localhost:8080/"
        },
        "id": "seLNLdynmqOq",
        "outputId": "c9e4ef05-3760-4f31-89ef-65b1c68bc119"
      },
      "source": [
        "!pip install bert-serving-client"
      ],
      "execution_count": null,
      "outputs": [
        {
          "output_type": "stream",
          "text": [
            "Collecting bert-serving-client\n",
            "  Downloading https://files.pythonhosted.org/packages/1f/09/aae1405378a848b2e87769ad89a43d6d71978c4e15534ca48e82e723a72f/bert_serving_client-1.10.0-py2.py3-none-any.whl\n",
            "Requirement already satisfied: numpy in /usr/local/lib/python3.7/dist-packages (from bert-serving-client) (1.19.5)\n",
            "Requirement already satisfied: pyzmq>=17.1.0 in /usr/local/lib/python3.7/dist-packages (from bert-serving-client) (22.0.3)\n",
            "Installing collected packages: bert-serving-client\n",
            "Successfully installed bert-serving-client-1.10.0\n"
          ],
          "name": "stdout"
        }
      ]
    },
    {
      "cell_type": "code",
      "metadata": {
        "ExecuteTime": {
          "end_time": "2021-04-01T01:38:42.360931Z",
          "start_time": "2021-04-01T01:38:29.340329Z"
        },
        "id": "ids9Vko7evuo"
      },
      "source": [
        "import os\n",
        "\n",
        "import math\n",
        "\n",
        "import pandas as pd\n",
        "import numpy as np\n",
        "import datetime\n",
        "from sklearn.model_selection import train_test_split\n",
        "\n",
        "import pickle\n",
        "\n",
        "import tensorflow as tf\n",
        "\n",
        "import matplotlib.pyplot as plt\n",
        "\n",
        "# from transformers import BertTokenizer, TFBertModel\n",
        "\n",
        "from tqdm.notebook import tqdm"
      ],
      "execution_count": null,
      "outputs": []
    },
    {
      "cell_type": "code",
      "metadata": {
        "ExecuteTime": {
          "end_time": "2021-04-01T01:38:42.395645Z",
          "start_time": "2021-04-01T01:38:42.371342Z"
        },
        "id": "nEGYSzjmmMx3"
      },
      "source": [
        "from bert_serving.client import BertClient"
      ],
      "execution_count": null,
      "outputs": []
    },
    {
      "cell_type": "code",
      "metadata": {
        "ExecuteTime": {
          "end_time": "2021-04-01T01:38:42.545402Z",
          "start_time": "2021-04-01T01:38:42.407510Z"
        },
        "id": "blzAR_EkmMx5"
      },
      "source": [
        "bc = BertClient(ip='18.207.102.71', port=5557, port_out=5558)"
      ],
      "execution_count": null,
      "outputs": []
    },
    {
      "cell_type": "code",
      "metadata": {
        "ExecuteTime": {
          "end_time": "2021-04-01T01:38:44.250054Z",
          "start_time": "2021-04-01T01:38:44.196427Z"
        },
        "colab": {
          "base_uri": "https://localhost:8080/"
        },
        "id": "NMrx3r2JhyNc",
        "outputId": "fd3c1167-ed4f-4f84-c9a5-902df8d34c07"
      },
      "source": [
        "# Detect hardware\n",
        "try:\n",
        "    tpu_resolver = tf.distribute.cluster_resolver.TPUClusterResolver() # TPU detection\n",
        "except ValueError:\n",
        "    tpu_resolver = None\n",
        "    gpus = tf.config.experimental.list_logical_devices(\"GPU\")\n",
        "\n",
        "# Select appropriate distribution strategy\n",
        "if tpu_resolver:\n",
        "    tf.config.experimental_connect_to_cluster(tpu_resolver)\n",
        "    tf.tpu.experimental.initialize_tpu_system(tpu_resolver)\n",
        "    strategy = tf.distribute.experimental.TPUStrategy(tpu_resolver)\n",
        "    print('Running on TPU ', tpu_resolver.cluster_spec().as_dict()['worker'])\n",
        "elif len(gpus) > 1:\n",
        "    strategy = tf.distribute.MirroredStrategy([gpu.name for gpu in gpus])\n",
        "    print('Running on multiple GPUs ', [gpu.name for gpu in gpus])\n",
        "elif len(gpus) == 1:\n",
        "    strategy = tf.distribute.get_strategy() # default strategy that works on CPU and single GPU\n",
        "    print('Running on single GPU ', gpus[0].name)\n",
        "else:\n",
        "    strategy = tf.distribute.get_strategy() # default strategy that works on CPU and single GPU\n",
        "\n",
        "    print('Running on CPU')\n",
        "print(\"Number of accelerators: \", strategy.num_replicas_in_sync)\n",
        "\n"
      ],
      "execution_count": null,
      "outputs": [
        {
          "output_type": "stream",
          "text": [
            "Running on single GPU  /device:GPU:0\n",
            "Number of accelerators:  1\n"
          ],
          "name": "stdout"
        }
      ]
    },
    {
      "cell_type": "code",
      "metadata": {
        "colab": {
          "base_uri": "https://localhost:8080/"
        },
        "id": "Njbpz0l9iF8U",
        "outputId": "932116d7-77e9-4118-e59f-089d666d85f8"
      },
      "source": [
        "import subprocess as sp\n",
        "import os\n",
        "\n",
        "def get_gpu_memory():\n",
        "    _output_to_list = lambda x: x.decode('ascii').split('\\n')[:-1]\n",
        "\n",
        "    ACCEPTABLE_AVAILABLE_MEMORY = 1024\n",
        "    COMMAND = \"nvidia-smi --query-gpu=memory.free --format=csv\"\n",
        "    memory_free_info = _output_to_list(sp.check_output(COMMAND.split()))[1:]\n",
        "    memory_free_values = [int(x.split()[0]) for i, x in enumerate(memory_free_info)]\n",
        "    print(memory_free_values)\n",
        "    return memory_free_values\n",
        "\n",
        "get_gpu_memory()"
      ],
      "execution_count": null,
      "outputs": [
        {
          "output_type": "stream",
          "text": [
            "[15731]\n"
          ],
          "name": "stdout"
        },
        {
          "output_type": "execute_result",
          "data": {
            "text/plain": [
              "[15731]"
            ]
          },
          "metadata": {
            "tags": []
          },
          "execution_count": 6
        }
      ]
    },
    {
      "cell_type": "code",
      "metadata": {
        "ExecuteTime": {
          "end_time": "2021-04-01T01:38:47.722868Z",
          "start_time": "2021-04-01T01:38:47.713974Z"
        },
        "id": "payk7By0iX4x"
      },
      "source": [
        "dir_prefix = \"/content/drive/MyDrive/W266/data/individual_reviews_bert_uncased\""
      ],
      "execution_count": null,
      "outputs": []
    },
    {
      "cell_type": "code",
      "metadata": {
        "ExecuteTime": {
          "end_time": "2021-04-01T01:38:48.086172Z",
          "start_time": "2021-04-01T01:38:48.077026Z"
        },
        "id": "X5mhVezMicPC"
      },
      "source": [
        "max_sequence_length = 64\n",
        "max_review_count = 50"
      ],
      "execution_count": null,
      "outputs": []
    },
    {
      "cell_type": "code",
      "metadata": {
        "ExecuteTime": {
          "end_time": "2021-04-01T01:38:52.677820Z",
          "start_time": "2021-04-01T01:38:49.130207Z"
        },
        "id": "s5w64Sp4iYtW"
      },
      "source": [
        "# pool of all posssible review embeddings\n",
        "bert_embeddings_raw_data = pd.read_pickle(os.path.join(dir_prefix,\"final_dataset_bert_mean_pooled_3-11.pkl\")).drop_duplicates(subset=['asin','reviewerID']).drop('bert_embedding',axis=1)\n",
        "# the 'usable' rows which have >= 10 reviews per reviewerID and asin\n",
        "bert_embeddings_usable = bert_embeddings_raw_data[(bert_embeddings_raw_data['userReviewsCount'] >=10) & \n",
        "                                                  (bert_embeddings_raw_data['itemReviewsCount'] >=10) &\n",
        "                                                  (bert_embeddings_raw_data['userReviewsCount'] <= max_review_count) &\n",
        "                                                   (bert_embeddings_raw_data['itemReviewsCount'] <= max_review_count)][['asin','reviewerID','overall']]\n",
        "# sort the pool of possible review embeddings for quick retrieval\n",
        "user_sorted_raw_data = bert_embeddings_raw_data.sort_values('reviewerID')\n",
        "item_sorted_raw_data = bert_embeddings_raw_data.sort_values('asin')"
      ],
      "execution_count": null,
      "outputs": []
    },
    {
      "cell_type": "code",
      "metadata": {
        "ExecuteTime": {
          "end_time": "2021-04-01T01:38:52.713155Z",
          "start_time": "2021-04-01T01:38:52.684739Z"
        },
        "colab": {
          "base_uri": "https://localhost:8080/"
        },
        "id": "tVSh7hJ_ioC6",
        "outputId": "30f952f4-894d-4a11-fa0f-12a0dd4371d5"
      },
      "source": [
        "len(bert_embeddings_raw_data), len(bert_embeddings_usable)"
      ],
      "execution_count": null,
      "outputs": [
        {
          "output_type": "execute_result",
          "data": {
            "text/plain": [
              "(101557, 42663)"
            ]
          },
          "metadata": {
            "tags": []
          },
          "execution_count": 10
        }
      ]
    },
    {
      "cell_type": "code",
      "metadata": {
        "ExecuteTime": {
          "end_time": "2021-04-01T01:38:53.181897Z",
          "start_time": "2021-04-01T01:38:53.152601Z"
        },
        "id": "_JNMnpdlizBP"
      },
      "source": [
        "def fast_get_embeddings(sorted_user_data, sorted_item_data, user_item_row, embedding_column):\n",
        "    # find the start and end indexes of the sorted user review data\n",
        "    user_review_start_index = sorted_user_data['reviewerID'].searchsorted(user_item_row['reviewerID'],'left')\n",
        "    user_review_end_index = sorted_user_data['reviewerID'].searchsorted(user_item_row['reviewerID'],'right')\n",
        "    # we need at least 2 rows because the current combination is filtered out\n",
        "    if user_review_end_index - user_review_start_index < 2:\n",
        "        return None\n",
        "    # use the index range to get the rows with tokenized reviews by this user\n",
        "    user_reviews = sorted_user_data.iloc[user_review_start_index:user_review_end_index]\n",
        "    # get all the user reviews except the one for the current item\n",
        "    user_review_embedding_list = user_reviews[user_reviews['asin'] != user_item_row['asin']][['asin','reviewerID',embedding_column]]\n",
        "    \n",
        "    # find the start and end indexes of the sorted item review data\n",
        "    item_review_start_index = sorted_item_data['asin'].searchsorted(user_item_row['asin'],'left')\n",
        "    item_review_end_index = sorted_item_data['asin'].searchsorted(user_item_row['asin'],'right')\n",
        "    # we need at least 2 rows because the current combination is filtered out\n",
        "    if item_review_end_index - item_review_start_index < 2:\n",
        "        return None\n",
        "    # use the index range to get the rows with tokenized reviews for this item\n",
        "    item_reviews = sorted_item_data.iloc[item_review_start_index:item_review_end_index]\n",
        "    # get all the item reviews except the one for the current user\n",
        "    item_review_embedding_list = item_reviews[item_reviews['reviewerID'] != user_item_row['reviewerID']][['asin','reviewerID',embedding_column]]\n",
        "    \n",
        "    return {'userReviews': user_review_embedding_list, 'itemReviews': item_review_embedding_list}"
      ],
      "execution_count": null,
      "outputs": []
    },
    {
      "cell_type": "code",
      "metadata": {
        "ExecuteTime": {
          "end_time": "2021-04-01T01:38:53.816771Z",
          "start_time": "2021-04-01T01:38:53.559849Z"
        },
        "id": "OzBFcd4ui1r7"
      },
      "source": [
        "# Train/test split for our model is unique, we need to hold out a\n",
        "# set of users and movies so that our network never learns those \n",
        "test_size = 0.05\n",
        "\n",
        "# get test_size percentage of users\n",
        "unique_users = bert_embeddings_usable.loc[:, \"reviewerID\"].unique()\n",
        "users_size = len(unique_users)\n",
        "test_idx = np.random.choice(users_size,\n",
        "                              size=int(users_size * test_size),\n",
        "                              replace=False)\n",
        "\n",
        "# get test users\n",
        "test_users = unique_users[test_idx]\n",
        "\n",
        "# everyone else is a training user\n",
        "train_users = np.delete(unique_users, test_idx)\n",
        "\n",
        "test = bert_embeddings_usable[bert_embeddings_usable[\"reviewerID\"].isin(test_users)]\n",
        "train = bert_embeddings_usable[bert_embeddings_usable[\"reviewerID\"].isin(train_users)]\n",
        "\n",
        "unique_test_movies = test[\"asin\"].unique()\n",
        "\n",
        "# drop the movies that also appear in our test set. In order to be\n",
        "# a true train/test split, we are forced to discard some data entirely\n",
        "train = train.where(np.logical_not(train[\"asin\"].isin(unique_test_movies))).dropna()"
      ],
      "execution_count": null,
      "outputs": []
    },
    {
      "cell_type": "code",
      "metadata": {
        "ExecuteTime": {
          "end_time": "2021-04-01T01:38:54.078149Z",
          "start_time": "2021-04-01T01:38:54.061892Z"
        },
        "colab": {
          "base_uri": "https://localhost:8080/"
        },
        "id": "7lbtbD54i3-K",
        "outputId": "1a79857b-9cd3-47ab-e27c-46ead5b9e142"
      },
      "source": [
        "print(f'Train size: {len(train)}')\n",
        "print(f'Test size: {len(test)}')"
      ],
      "execution_count": null,
      "outputs": [
        {
          "output_type": "stream",
          "text": [
            "Train size: 19339\n",
            "Test size: 2167\n"
          ],
          "name": "stdout"
        }
      ]
    },
    {
      "cell_type": "code",
      "metadata": {
        "ExecuteTime": {
          "end_time": "2021-04-01T01:38:57.237907Z",
          "start_time": "2021-04-01T01:38:57.230860Z"
        },
        "id": "3eCnS5hJVPrg"
      },
      "source": [
        "embedding_cache = {}"
      ],
      "execution_count": null,
      "outputs": []
    },
    {
      "cell_type": "code",
      "metadata": {
        "ExecuteTime": {
          "end_time": "2021-04-01T01:38:57.454817Z",
          "start_time": "2021-04-01T01:38:57.421056Z"
        },
        "colab": {
          "base_uri": "https://localhost:8080/"
        },
        "id": "aJwnzgHea1wh",
        "outputId": "248b3c01-ccb7-4734-acc4-735583d009e9"
      },
      "source": [
        "len(embedding_cache)"
      ],
      "execution_count": null,
      "outputs": [
        {
          "output_type": "execute_result",
          "data": {
            "text/plain": [
              "0"
            ]
          },
          "metadata": {
            "tags": []
          },
          "execution_count": 15
        }
      ]
    },
    {
      "cell_type": "code",
      "metadata": {
        "ExecuteTime": {
          "end_time": "2021-04-01T01:39:15.434086Z",
          "start_time": "2021-04-01T01:38:58.383745Z"
        },
        "id": "GzORF3h_LwGL"
      },
      "source": [
        "# Optional: Pre-load some cached embeddings\n",
        "with open(os.path.join('/content/drive/MyDrive/W266/data','cached_embeddings_attentive_pooling.pkl'), 'rb') as f:\n",
        "    embedding_cache = pickle.load(f)"
      ],
      "execution_count": null,
      "outputs": []
    },
    {
      "cell_type": "code",
      "metadata": {
        "id": "n7-h1P_Ge4of"
      },
      "source": [
        "embedding_size = 768"
      ],
      "execution_count": null,
      "outputs": []
    },
    {
      "cell_type": "code",
      "metadata": {
        "ExecuteTime": {
          "end_time": "2021-04-01T02:23:33.487319Z",
          "start_time": "2021-04-01T02:23:33.331106Z"
        },
        "id": "m3kQFrmUi5lV"
      },
      "source": [
        "# the training set generator groups together the reviews from the \n",
        "# review pool when each row is fed into the model.  The grouped review embeddings\n",
        "# are avearged together resulting in 1x768 vector\n",
        "\n",
        "def reshape_seqs(x, avg_window_size=3):\n",
        "    B = tf.shape(x)[0]\n",
        "    L = tf.cast(tf.shape(x)[1], tf.float32)\n",
        "    D = x.get_shape().as_list()[-1]\n",
        "    b = tf.transpose(x, [0, 2, 1])\n",
        "    extra_pads = tf.cast(tf.math.ceil(L / avg_window_size) * avg_window_size - L, tf.int32)\n",
        "    c = tf.pad(b, tf.concat([tf.zeros([2, 2], dtype=tf.int32), [[0, extra_pads]]], axis=0))\n",
        "    return tf.reshape(c, [B, D, avg_window_size, -1])\n",
        "\n",
        "\n",
        "# initializer = tf.contrib.layers.variance_scaling_initializer(factor=1.0,\n",
        "#                                                              mode='FAN_AVG',\n",
        "#                                                              uniform=True,\n",
        "#                                                              dtype=tf.float32)\n",
        "\n",
        "initializer = tf.keras.initializers.VarianceScaling(\n",
        "    scale=1.0, mode='fan_avg', distribution='uniform',\n",
        "    seed=None\n",
        ")\n",
        "\n",
        "regularizer = tf.keras.regularizers.L2(\n",
        "    l2=3e-7\n",
        ")\n",
        "\n",
        "def minus_mask(x, mask, offset=1e30):\n",
        "    \"\"\"\n",
        "    masking by subtract a very large number\n",
        "    :param x: sequence data in the shape of [B, L, D]\n",
        "    :param mask: 0-1 mask in the shape of [B, L]\n",
        "    :param offset: very large negative number\n",
        "    :return: masked x\n",
        "    \"\"\"\n",
        "    return x - tf.expand_dims(1.0 - mask, axis=-1) * offset\n",
        "\n",
        "def get_var(name, shape, dtype=tf.float32,\n",
        "            initializer_fn=initializer,\n",
        "            regularizer_fn=regularizer, **kwargs):\n",
        "    return tf.compat.v1.get_variable(name, shape,\n",
        "                           initializer=initializer_fn,\n",
        "                           dtype=dtype,\n",
        "                           regularizer=regularizer_fn, **kwargs)\n",
        "\n",
        "\n",
        "def attention_pool(seqs, mask):\n",
        "    B = tf.shape(seqs)[0]\n",
        "    D = tf.shape(seqs)[-1]\n",
        "    query = tf.tile(get_var('query', shape=[1, D, 1]), [B, 1, 1])\n",
        "    score = tf.nn.softmax(minus_mask(tf.matmul(seqs, query) / (tf.cast(D, dtype=tf.float32) ** 0.5), mask), axis=1)  # [B,L,1]\n",
        "    pooled = tf.reduce_sum(score * seqs, axis=1)  # [B, D]\n",
        "    return pooled\n",
        "    \n",
        "\n",
        "generator_batch_size=50\n",
        "def dataset_generator(row, user_sorted_data, item_sorted_data):\n",
        "    # get the grouped list of embedding vectors for userReviews and itemReviews\n",
        "    review_lists = fast_get_embeddings(user_sorted_data, item_sorted_data, row, 'reviewText')\n",
        "    \n",
        "#     user_embedding = tf.reduce_mean(bc.encode(review_lists['userReviews']['reviewText'].tolist()),axis=0)\n",
        "#     item_embedding = tf.reduce_mean(bc.encode(review_lists['itemReviews']['reviewText'].tolist()),axis=0)\n",
        "\n",
        "    embedding_lists = {}\n",
        "    for reviewType in ['userReviews','itemReviews']:\n",
        "        embedding_lists[reviewType] = []\n",
        "        review_lists[reviewType]['embedding'] = review_lists[reviewType].apply(lambda x: embedding_cache.get(f\"{x['reviewerID']}-{x['asin']}\",None), axis=1)\n",
        "\n",
        "        empty_embeddings_mask = review_lists[reviewType]['embedding'].isnull()\n",
        "\n",
        "        if len(review_lists[reviewType][empty_embeddings_mask]) > 0:\n",
        "            raw_encodings = tf.constant(bc.encode(review_lists[reviewType][empty_embeddings_mask]['reviewText'].tolist()))\n",
        "\n",
        "            pooled_embeddings = []\n",
        "            for raw_encoding in raw_encodings:\n",
        "                seqs = tf.expand_dims(raw_encoding,axis=0)\n",
        "                nonzero_len = tf.math.count_nonzero(raw_encoding, axis=0)[0]\n",
        "                mask = tf.expand_dims(tf.concat([tf.ones((nonzero_len,)), tf.zeros((max_sequence_length-nonzero_len,))],axis=0),axis=0)\n",
        "\n",
        "                pooled_embeddings.append(attention_pool(seqs,mask))\n",
        "\n",
        "            embedding_lists[reviewType] = pooled_embeddings#tf.unstack(pooled_encodings, axis=0)\n",
        "            review_lists[reviewType].loc[empty_embeddings_mask,'embedding'] = embedding_lists[reviewType]\n",
        "            for embedding_pair in list(zip(review_lists[reviewType][empty_embeddings_mask][['asin','reviewerID']].apply(lambda x: f\"{x['reviewerID']}-{x['asin']}\",axis=1), embedding_lists[reviewType])):\n",
        "                embedding_cache[embedding_pair[0]] = embedding_pair[1]\n",
        "\n",
        "    user_embedding = tf.stack(review_lists['userReviews']['embedding'].tolist() + embedding_lists['userReviews'],axis=1)\n",
        "    user_embedding = attention_pool(user_embedding, tf.ones(user_embedding.shape[0]))\n",
        "    item_embedding = tf.stack(review_lists['itemReviews']['embedding'].tolist() + embedding_lists['itemReviews'],axis=1)\n",
        "    item_embedding = attention_pool(item_embedding, tf.ones(item_embedding.shape[0]))\n",
        "    \n",
        "    # return the userReviews, itemReviews and rating in a dict\n",
        "    return ({'user_embedding': user_embedding,\n",
        "          'item_embedding': item_embedding,\n",
        "          },\n",
        "                  {'rating': tf.expand_dims(row['overall'],axis=0)})\n",
        "\n",
        "def train_dataset_generator():\n",
        "    # iterate through each training row\n",
        "    # limit to 1000 rows\n",
        "    for _, row in train.iterrows():\n",
        "        yield dataset_generator(row, user_sorted_raw_data, item_sorted_raw_data)\n",
        "\n",
        "# create tf.dataset object from generator w/ signature\n",
        "train_dataset = tf.data.Dataset.from_generator(train_dataset_generator, \n",
        "                   output_signature=({'user_embedding': tf.TensorSpec(shape=(None, embedding_size), dtype=tf.float32),\n",
        "                                      'item_embedding': tf.TensorSpec(shape=(None, embedding_size), dtype=tf.float32)\n",
        "                                      },\n",
        "                           {'rating':tf.TensorSpec(shape=(None), dtype=tf.float32)}))\n"
      ],
      "execution_count": null,
      "outputs": []
    },
    {
      "cell_type": "code",
      "metadata": {
        "colab": {
          "base_uri": "https://localhost:8080/",
          "height": 84,
          "referenced_widgets": [
            "e876b8bb5d4b4b4da01e1f5b81ff99f4",
            "52aab39361ed42b09774eb683f0bcf97",
            "3f2bd00ef0f748cbbdec2c67227b1fb3",
            "e4071010490844ef99631a394a5dc8b5",
            "2f761a2ec42e4eacbf9a6dc02af00cb2",
            "356bb19687204633bcd0fdbc158e8c55",
            "5fb493859e3144108c7fcd5a6d1f1eb8",
            "742eb86d913a493cbc6e8f8f40f1f637"
          ]
        },
        "id": "1d9O0ZDDo3qD",
        "outputId": "a243b44a-7401-4528-c420-bf65e15ba3a6"
      },
      "source": [
        "for _ in tqdm(train_dataset, total=len(train)):\n",
        "  pass\n",
        "len(embedding_cache)"
      ],
      "execution_count": null,
      "outputs": [
        {
          "output_type": "display_data",
          "data": {
            "application/vnd.jupyter.widget-view+json": {
              "model_id": "e876b8bb5d4b4b4da01e1f5b81ff99f4",
              "version_minor": 0,
              "version_major": 2
            },
            "text/plain": [
              "HBox(children=(FloatProgress(value=0.0, max=19416.0), HTML(value='')))"
            ]
          },
          "metadata": {
            "tags": []
          }
        },
        {
          "output_type": "stream",
          "text": [
            "\n"
          ],
          "name": "stdout"
        },
        {
          "output_type": "execute_result",
          "data": {
            "text/plain": [
              "122162"
            ]
          },
          "metadata": {
            "tags": []
          },
          "execution_count": 20
        }
      ]
    },
    {
      "cell_type": "code",
      "metadata": {
        "ExecuteTime": {
          "end_time": "2021-03-31T19:35:09.916031Z",
          "start_time": "2021-03-31T19:35:09.897616Z"
        },
        "id": "7pc9GViWj5Tu"
      },
      "source": [
        "# same thing as training_dataset_generator but loops over test data\n",
        "def test_dataset_generator():\n",
        "    # iterate through each testing row\n",
        "    for _, row in test.iterrows():\n",
        "        # get the grouped list of embedding vectors for userReviews and itemReviews\n",
        "        yield dataset_generator(row, user_sorted_raw_data, item_sorted_raw_data)\n",
        "\n",
        "# create tf.dataset object from generator w/ signature\n",
        "test_dataset = tf.data.Dataset.from_generator(test_dataset_generator, \n",
        "                    output_signature=({'user_embedding': tf.TensorSpec(shape=(None, embedding_size), dtype=tf.float32),\n",
        "                                      'item_embedding': tf.TensorSpec(shape=(None, embedding_size), dtype=tf.float32)\n",
        "                                      #'user_token_type_ids': tf.TensorSpec(shape=(None, None, max_sentence_length), dtype=tf.int32),\n",
        "                                      #'user_attention_masks': tf.TensorSpec(shape=(None, None, max_sequence_length), dtype=tf.int32),\n",
        "                                      #'item_input_ids': tf.TensorSpec(shape=(None, None, max_sequence_length), dtype=tf.int32),\n",
        "                                      #'item_token_type_ids': tf.TensorSpec(shape=(None, None, max_sentence_length), dtype=tf.int32),\n",
        "                                      #'item_attention_masks': tf.TensorSpec(shape=(None, None, max_sequence_length), dtype=tf.int32)\n",
        "                    },\n",
        "                           {'rating':tf.TensorSpec(shape=(None), dtype=tf.float32)}))\n"
      ],
      "execution_count": null,
      "outputs": []
    },
    {
      "cell_type": "code",
      "metadata": {
        "colab": {
          "base_uri": "https://localhost:8080/",
          "height": 84,
          "referenced_widgets": [
            "ca0e1acf0f354e858e666a6e30845107",
            "e6260ed07dcc4dc3bd7a229c9103b503",
            "f168de1105364bbeb4ddb49a45a6c5fe",
            "930848bbcad245cb98d196fd2f41ed54",
            "d72ae47501ce4891b663d422e2ced282",
            "5f2454d9e39241a1a956f87a034d9061",
            "25b9ba61a7ac4d1a801586226a7acaf0",
            "a968bedf3e4844cb9dc90d00070d2c45"
          ]
        },
        "id": "F8K2KPY4rnjM",
        "outputId": "d1705d8c-debd-4dbe-a86b-1aae65da76f6"
      },
      "source": [
        "for _ in tqdm(test_dataset, total=len(test)):\n",
        "  pass\n",
        "len(embedding_cache)"
      ],
      "execution_count": null,
      "outputs": [
        {
          "output_type": "display_data",
          "data": {
            "application/vnd.jupyter.widget-view+json": {
              "model_id": "ca0e1acf0f354e858e666a6e30845107",
              "version_minor": 0,
              "version_major": 2
            },
            "text/plain": [
              "HBox(children=(FloatProgress(value=0.0, max=2152.0), HTML(value='')))"
            ]
          },
          "metadata": {
            "tags": []
          }
        },
        {
          "output_type": "stream",
          "text": [
            "\n"
          ],
          "name": "stdout"
        },
        {
          "output_type": "execute_result",
          "data": {
            "text/plain": [
              "122211"
            ]
          },
          "metadata": {
            "tags": []
          },
          "execution_count": 22
        }
      ]
    },
    {
      "cell_type": "code",
      "metadata": {
        "ExecuteTime": {
          "end_time": "2021-04-01T02:22:09.739225Z",
          "start_time": "2021-04-01T02:22:09.735553Z"
        },
        "id": "FhKXHbnCkYtB"
      },
      "source": [
        "# modeling imports\n",
        "\n",
        "from tensorflow.keras.models import Model, Sequential\n",
        "from tensorflow.keras.callbacks import EarlyStopping, TensorBoard, LearningRateScheduler, ModelCheckpoint\n",
        "from tensorflow.keras.layers import Flatten, Input, Dense, LSTM, Masking\n",
        "from tensorflow.keras.layers import Add, Dot, Concatenate, Layer, Dropout, MultiHeadAttention, LayerNormalization"
      ],
      "execution_count": null,
      "outputs": []
    },
    {
      "cell_type": "code",
      "metadata": {
        "ExecuteTime": {
          "end_time": "2021-03-31T19:27:35.645633Z",
          "start_time": "2021-03-31T19:27:35.628683Z"
        },
        "id": "gW6D513XmMyC"
      },
      "source": [
        "class RecommenderConfig():\n",
        "\n",
        "      def __init__(self, max_len=64, hidden_dim=32, embedding_dim = 768*4, \n",
        "               num_heads=2, feedforward_dim=32, rate=0.1):\n",
        "    \n",
        "        self.max_len = max_len\n",
        "        self.hidden_dim = hidden_dim\n",
        "        self.rate = rate\n",
        "\n",
        "        # this configuration is for transformer layer\n",
        "        self.embedding_dim = embedding_dim\n",
        "        self.num_heads = num_heads\n",
        "        self.feedforward_dim = feedforward_dim\n",
        "    \n",
        "class EncoderLayer(Layer):\n",
        "\n",
        "    def __init__(self, embedding_dim, num_heads, feedforward_dim, rate=0.1):\n",
        "\n",
        "        super().__init__()\n",
        "        self.attn = MultiHeadAttention(num_heads=num_heads, key_dim=embedding_dim)\n",
        "        self.feedforward = Sequential(\n",
        "            [Dense(feedforward_dim, activation=\"relu\"), Dense(embedding_dim),]\n",
        "        )\n",
        "\n",
        "        self.layernorm1 = LayerNormalization(epsilon=1e-6)\n",
        "        self.layernorm2 = LayerNormalization(epsilon=1e-6)\n",
        "        self.dropout1 = Dropout(rate)\n",
        "        self.dropout2 = Dropout(rate)\n",
        "\n",
        "    def call(self, inputs, training):\n",
        "        attn_output = self.attn(inputs, inputs)\n",
        "        attn_output = self.dropout1(attn_output, training=training)\n",
        "        out1 = self.layernorm1(inputs + attn_output)\n",
        "\n",
        "        feedforward_output = self.feedforward(out1)\n",
        "        feedforward_output = self.dropout2(feedforward_output, training=training)\n",
        "        return self.layernorm2(out1 + feedforward_output)\n",
        "\n",
        "\n",
        "class DecoderLayer(Layer):\n",
        "\n",
        "    def __init__(self, embedding_dim, num_heads, feedforward_dim, rate=0.1):\n",
        "\n",
        "        super().__init__()\n",
        "\n",
        "        self.attn1 = MultiHeadAttention(num_heads=num_heads, key_dim=embedding_dim)\n",
        "        self.attn2 = MultiHeadAttention(num_heads=num_heads, key_dim=embedding_dim)\n",
        "\n",
        "        self.feedforward = Sequential(\n",
        "            [Dense(feedforward_dim, activation=\"relu\"), Dense(embedding_dim),]\n",
        "        )\n",
        "\n",
        "        self.layernorm1 = LayerNormalization(epsilon=1e-6)\n",
        "        self.layernorm2 = LayerNormalization(epsilon=1e-6)\n",
        "        self.layernorm3 = LayerNormalization(epsilon=1e-6)\n",
        "\n",
        "        self.dropout1 = Dropout(rate)\n",
        "        self.dropout2 = Dropout(rate)\n",
        "        self.dropout3 = Dropout(rate)\n",
        "\n",
        "  \n",
        "    def call(self, inputs, enc_output, training):\n",
        "    \n",
        "        attn_output1 = self.attn1(inputs, inputs)\n",
        "        attn_output1 = self.dropout1(attn_output1, training=training)\n",
        "        out1 = self.layernorm1(inputs + attn_output1)\n",
        "\n",
        "        attn_output2 = self.attn2(enc_output, enc_output) #, out1\n",
        "        attn_output2 = self.dropout2(attn_output2, training=training)\n",
        "        out2 = self.layernorm2(out1 + attn_output2)\n",
        "\n",
        "        feedforward_output = self.feedforward(out2)\n",
        "        feedforward_output = self.dropout3(feedforward_output, training=training)\n",
        "\n",
        "        return self.layernorm3(out2 + feedforward_output)\n",
        "\n",
        "\n",
        "class TransformerLayer(Layer):\n",
        "\n",
        "    def __init__(self, recommender_config):\n",
        "        super().__init__()\n",
        "\n",
        "        embedding_dim = recommender_config.embedding_dim\n",
        "        num_heads = recommender_config.num_heads\n",
        "        feedforward_dim = recommender_config.feedforward_dim\n",
        "        rate = recommender_config.rate\n",
        "\n",
        "        self.encoder = EncoderLayer(embedding_dim, num_heads, feedforward_dim, rate)\n",
        "        self.decoder = DecoderLayer(embedding_dim, num_heads, feedforward_dim, rate)\n",
        "\n",
        "    def call(self, inputs, training):\n",
        "\n",
        "        out = self.encoder(inputs, training)\n",
        "        out = self.decoder(inputs, out, training)\n",
        "\n",
        "        return out"
      ],
      "execution_count": null,
      "outputs": []
    },
    {
      "cell_type": "code",
      "metadata": {
        "ExecuteTime": {
          "end_time": "2021-03-31T19:26:57.965156Z",
          "start_time": "2021-03-31T19:26:57.945265Z"
        },
        "id": "hv2_FNpVmMyC"
      },
      "source": [
        "class EncoderLayerModified(Layer):\n",
        "\n",
        "    def __init__(self, embedding_dim, num_heads, feedforward_dim, rate=0.1):\n",
        "\n",
        "        super().__init__()\n",
        "        self.attn = MultiHeadAttention(num_heads=num_heads, key_dim=embedding_dim)\n",
        "        self.feedforward1 = Sequential(\n",
        "            [Dense(feedforward_dim, activation=\"relu\"), Dense(embedding_dim),]\n",
        "        )\n",
        "\n",
        "        self.feedforward2 = Sequential(\n",
        "            [Dense(feedforward_dim, activation=\"relu\"), Dense(embedding_dim),]\n",
        "        )\n",
        "\n",
        "        self.layernorm1 = LayerNormalization(epsilon=1e-6)\n",
        "        self.layernorm2 = LayerNormalization(epsilon=1e-6)\n",
        "        self.layernorm3 = LayerNormalization(epsilon=1e-6)\n",
        "\n",
        "        self.dropout1 = Dropout(rate)\n",
        "        self.dropout2 = Dropout(rate)\n",
        "        self.dropout3 = Dropout(rate)\n",
        "\n",
        "\n",
        "    def call(self, inputs, training):\n",
        "    \n",
        "        feedforward_output1 = self.feedforward1(inputs)\n",
        "        feedforward_output1 = self.dropout1(feedforward_output1, training=training)\n",
        "        feedforward_output1 = self.layernorm1(inputs + feedforward_output1)\n",
        "\n",
        "        attn_output = self.attn(feedforward_output1, feedforward_output1)\n",
        "        attn_output = self.dropout2(attn_output, training=training)\n",
        "        attn_output = self.layernorm2(feedforward_output1 + attn_output)\n",
        "\n",
        "        feedforward_output2 = self.feedforward2(attn_output)\n",
        "        feedforward_output2 = self.dropout3(feedforward_output2, training=training)\n",
        "        return self.layernorm3(attn_output + feedforward_output2)\n",
        "\n",
        "\n",
        "class DecoderLayerModified(Layer):\n",
        "\n",
        "    def __init__(self, embedding_dim, num_heads, feedforward_dim, rate=0.1):\n",
        "\n",
        "        super().__init__()\n",
        "\n",
        "        self.attn1 = MultiHeadAttention(num_heads=num_heads, key_dim=embedding_dim)\n",
        "        self.attn2 = MultiHeadAttention(num_heads=num_heads, key_dim=embedding_dim)\n",
        "\n",
        "        self.feedforward1 = Sequential(\n",
        "            [Dense(feedforward_dim, activation=\"relu\"), Dense(embedding_dim),]\n",
        "        )\n",
        "\n",
        "        self.feedforward2 = Sequential(\n",
        "            [Dense(feedforward_dim, activation=\"relu\"), Dense(embedding_dim),]\n",
        "        )\n",
        "\n",
        "        self.feedforward3 = Sequential(\n",
        "            [Dense(feedforward_dim, activation=\"relu\"), Dense(embedding_dim),]\n",
        "        )\n",
        "\n",
        "        self.layernorm1 = LayerNormalization(epsilon=1e-6)\n",
        "        self.layernorm2 = LayerNormalization(epsilon=1e-6)\n",
        "        self.layernorm3 = LayerNormalization(epsilon=1e-6)\n",
        "        self.layernorm4 = LayerNormalization(epsilon=1e-6)\n",
        "        self.layernorm5 = LayerNormalization(epsilon=1e-6)\n",
        "\n",
        "        self.dropout1 = Dropout(rate)\n",
        "        self.dropout2 = Dropout(rate)\n",
        "        self.dropout3 = Dropout(rate)\n",
        "        self.dropout4 = Dropout(rate)\n",
        "        self.dropout5 = Dropout(rate)\n",
        "\n",
        "  \n",
        "    def call(self, inputs, enc_output, training):\n",
        "    \n",
        "        feedforward_output1 = self.feedforward1(inputs)\n",
        "        feedforward_output1 = self.dropout1(feedforward_output1)\n",
        "        feedforward_output1 = self.layernorm1(inputs + feedforward_output1)\n",
        "\n",
        "        attn_output1 = self.attn1(feedforward_output1, feedforward_output1)\n",
        "        attn_output1 = self.dropout2(attn_output1, training=training)\n",
        "        attn_output1 = self.layernorm2(feedforward_output1 + attn_output1)\n",
        "\n",
        "        feedforward_output2 = self.feedforward2(enc_output)\n",
        "        feedforward_output2 = self.dropout3(feedforward_output2)\n",
        "        feedforward_output2 = self.layernorm3(attn_output1 + feedforward_output2)\n",
        "\n",
        "        attn_output2 = self.attn2(feedforward_output2, feedforward_output2) #, out1\n",
        "        attn_output2 = self.dropout4(attn_output2, training=training)\n",
        "        attn_output2 = self.layernorm4(feedforward_output2 + attn_output2)\n",
        "\n",
        "        feedforward_output3 = self.feedforward3(attn_output2)\n",
        "        feedforward_output3 = self.dropout5(feedforward_output3, training=training)\n",
        "\n",
        "        return self.layernorm5(attn_output2 + feedforward_output3)\n",
        "\n",
        "\n",
        "class TransformerLayerModified(Layer):\n",
        "\n",
        "    def __init__(self, recommender_config):\n",
        "        super().__init__()\n",
        "\n",
        "        embedding_dim = recommender_config.embedding_dim\n",
        "        num_heads = recommender_config.num_heads\n",
        "        feedforward_dim = recommender_config.feedforward_dim\n",
        "        rate = recommender_config.rate\n",
        "\n",
        "        self.encoder = EncoderLayerModified(embedding_dim, num_heads, feedforward_dim, rate)\n",
        "        self.decoder = DecoderLayerModified(embedding_dim, num_heads, feedforward_dim, rate)\n",
        "\n",
        "    def call(self, inputs, training):\n",
        "\n",
        "        out = self.encoder(inputs, training)\n",
        "        out = self.decoder(inputs, out, training)\n",
        "\n",
        "        return out"
      ],
      "execution_count": null,
      "outputs": []
    },
    {
      "cell_type": "code",
      "metadata": {
        "ExecuteTime": {
          "end_time": "2021-04-01T02:22:49.496580Z",
          "start_time": "2021-04-01T02:22:49.483638Z"
        },
        "id": "Wr-Vm5LMmI07"
      },
      "source": [
        "class DeepCoNN():\n",
        "    def __init__(self, hidden_size):\n",
        "        self.hidden_size = hidden_size\n",
        "        \n",
        "#        self.recommender_config = RecommenderConfig()\n",
        "        self.u_embedding, self.towerU = self.create_deepconn_tower('user')\n",
        "        self.i_embedding, self.towerI = self.create_deepconn_tower('item')\n",
        "        self.joined = Concatenate()([self.towerU, self.towerI])\n",
        "        self.dropout = Dropout(0.1)(self.joined)\n",
        "        self.outNeuron = Dense(1)(self.dropout)\n",
        "        \n",
        "    def create_deepconn_tower(self, name):\n",
        "        input_embedding_layer = Input(shape=(embedding_size), name=f'{name}_embedding', dtype=tf.float32)\n",
        "        # input_embedding_mask_layer = Input(shape=(max_review_count), name=f'{name}_embedding_mask', dtype=tf.bool)\n",
        "        \n",
        "        #masking = Masking(mask_value=0., input_shape=(max_review_count, embedding_size))\n",
        "        #transformer_layer = TransformerLayerModified(self.recommender_config)\n",
        "        #lstm_layer = LSTM(100, name=f'{name}_lstm')\n",
        "        #tower = transformer_layer(input_embedding_layer)\n",
        "        #tower = lstm_layer(masking(input_embedding_layer))#, mask=input_embedding_mask_layer)\n",
        "        tower = Dense(self.hidden_size, activation=\"relu\", name=f'{name}_dense_{self.hidden_size}')(input_embedding_layer)\n",
        "            \n",
        "        return input_embedding_layer, tower\n",
        "    \n",
        "\n",
        "    def create_deepconn_dp(self):\n",
        "        dotproduct = Dot(axes=1)([self.towerU, self.towerI])\n",
        "        output = Add(name='rating')([self.outNeuron, dotproduct])\n",
        "        self.model = Model(inputs=[self.u_embedding, self.i_embedding], outputs=[output])\n",
        "        self.model.compile(optimizer='Adam', loss='mse')\n",
        "        \n",
        "    def train(self, train_data, batch_size, validation_dataset, callbacks=[], epochs=3500):\n",
        "        self.create_deepconn_dp()\n",
        "        print(self.model.summary())\n",
        "                \n",
        "        self.history = self.model.fit(train_data,\n",
        "                                      batch_size=batch_size,\n",
        "                                      callbacks=[callbacks],\n",
        "                                      validation_data=validation_dataset,\n",
        "                                      epochs=epochs)\n",
        "        \n",
        "        "
      ],
      "execution_count": null,
      "outputs": []
    },
    {
      "cell_type": "code",
      "metadata": {
        "ExecuteTime": {
          "end_time": "2021-04-01T02:07:48.631269Z",
          "start_time": "2021-04-01T02:07:48.567493Z"
        },
        "id": "g2yCNiZNnGQT"
      },
      "source": [
        "# Tensorboard and checpoint callbacks\n",
        "\n",
        "def tensorboard_checkpoint_callbacks(name):\n",
        "\n",
        "    tensorboard_dir = ''.join(['./logs/tensorboard/', name])\n",
        "\n",
        "    if not os.path.exists(tensorboard_dir):\n",
        "        os.makedirs(tensorboard_dir)\n",
        "\n",
        "    version = 1\n",
        "    dirs = [d for d in os.listdir(tensorboard_dir) if not d.startswith('.')]\n",
        "\n",
        "    if (len(dirs) > 0):\n",
        "        versions = np.asarray(list(map(lambda v: int(v[1:]), dirs)))\n",
        "        version = versions[versions.argsort()[::-1][0]]\n",
        "        version += 1\n",
        "\n",
        "    tensorboard_version_dir = os.path.join(tensorboard_dir, ''.join(['v', str(version)]))\n",
        "    print(tensorboard_version_dir)\n",
        "\n",
        "    tensorboard_callback = TensorBoard(log_dir=tensorboard_version_dir, histogram_freq=1)\n",
        "\n",
        "    checkpoint_dir = './logs/chkpoint'\n",
        "    checkpoint_name_dir = os.path.join(checkpoint_dir, name, ''.join(['v', str(version)]))\n",
        "    if not os.path.exists(checkpoint_name_dir):\n",
        "        os.makedirs(checkpoint_name_dir)\n",
        "\n",
        "    checkpoint_file = os.path.join(checkpoint_name_dir, 'weights.best.hdf5')\n",
        "\n",
        "    print(checkpoint_file)\n",
        "    checkpoint_callback = ModelCheckpoint(checkpoint_file, monitor='val_loss', verbose=0, save_best_only=True)\n",
        "\n",
        "    return tensorboard_callback, checkpoint_callback"
      ],
      "execution_count": null,
      "outputs": []
    },
    {
      "cell_type": "code",
      "metadata": {
        "ExecuteTime": {
          "end_time": "2021-04-01T02:07:48.930489Z",
          "start_time": "2021-04-01T02:07:48.857636Z"
        },
        "colab": {
          "base_uri": "https://localhost:8080/"
        },
        "id": "IV8_L7wanM65",
        "outputId": "1a512d88-85e4-4351-c168-ff268fa3bff7"
      },
      "source": [
        "tensorboard_callback, checkpoint_callback = tensorboard_checkpoint_callbacks('base')\n",
        "lr_onplateau_callback = tf.keras.callbacks.ReduceLROnPlateau(monitor='val_loss', factor=0.1, patience=2, verbose=0)"
      ],
      "execution_count": null,
      "outputs": [
        {
          "output_type": "stream",
          "text": [
            "./logs/tensorboard/base/v1\n",
            "./logs/chkpoint/base/v1/weights.best.hdf5\n"
          ],
          "name": "stdout"
        }
      ]
    },
    {
      "cell_type": "code",
      "metadata": {
        "ExecuteTime": {
          "end_time": "2021-04-01T02:07:50.385727Z",
          "start_time": "2021-04-01T02:07:50.364119Z"
        },
        "id": "HtR1sCQlnVRx"
      },
      "source": [
        "NO_EPOCHS = 40"
      ],
      "execution_count": null,
      "outputs": []
    },
    {
      "cell_type": "code",
      "metadata": {
        "ExecuteTime": {
          "end_time": "2021-04-01T02:07:51.189701Z",
          "start_time": "2021-04-01T02:07:50.620534Z"
        },
        "colab": {
          "base_uri": "https://localhost:8080/",
          "height": 282
        },
        "id": "bt_r_O7dnN6D",
        "outputId": "cc4f28f6-e78b-4c39-ea5a-88c68596cf0e"
      },
      "source": [
        "# Learning rate scheduler callbacks\n",
        "# optimizer (with 1-cycle-policy)\n",
        "start_lr = 0.0001\n",
        "min_lr = 0.00001\n",
        "max_lr = 0.001 * strategy.num_replicas_in_sync\n",
        "rampup_epochs = 2\n",
        "sustain_epochs = 0\n",
        "exp_decay = .85\n",
        "\n",
        "def lrfn(epoch):\n",
        "    if epoch < rampup_epochs:\n",
        "        return (max_lr - start_lr)/rampup_epochs * epoch + start_lr\n",
        "    elif epoch < rampup_epochs + sustain_epochs:\n",
        "        return max_lr\n",
        "    else:\n",
        "        return (max_lr - min_lr) * exp_decay**(epoch-rampup_epochs-sustain_epochs) + min_lr\n",
        "\n",
        "#LEARNING_RATE = 0.001\n",
        "#LEARNING_RATE_EXP_DECAY = 0.3 if strategy.num_replicas_in_sync == 1 else 0.5\n",
        "\n",
        "lr_callback = LearningRateScheduler(lambda epoch: lrfn(epoch), verbose=True)\n",
        "#lr_callback = tf.keras.callbacks.LearningRateScheduler(lambda epoch: LEARNING_RATE * LEARNING_RATE_EXP_DECAY**epoch, verbose=True)\n",
        "\n",
        "rang = np.arange(NO_EPOCHS)\n",
        "y = [lrfn(x) for x in rang]\n",
        "plt.plot(rang, y)\n",
        "print('Learning rate per epoch:')"
      ],
      "execution_count": null,
      "outputs": [
        {
          "output_type": "stream",
          "text": [
            "Learning rate per epoch:\n"
          ],
          "name": "stdout"
        },
        {
          "output_type": "display_data",
          "data": {
            "image/png": "[encoded data removed]",
            "text/plain": [
              "<Figure size 432x288 with 1 Axes>"
            ]
          },
          "metadata": {
            "tags": [],
            "needs_background": "light"
          }
        }
      ]
    },
    {
      "cell_type": "code",
      "metadata": {
        "ExecuteTime": {
          "end_time": "2021-03-31T19:35:18.754281Z",
          "start_time": "2021-03-31T19:35:18.750855Z"
        },
        "id": "felHFp7NGuy-"
      },
      "source": [
        "tf.keras.backend.clear_session()"
      ],
      "execution_count": null,
      "outputs": []
    },
    {
      "cell_type": "code",
      "metadata": {
        "ExecuteTime": {
          "end_time": "2021-04-01T02:23:44.488259Z",
          "start_time": "2021-04-01T02:23:43.985497Z"
        },
        "colab": {
          "base_uri": "https://localhost:8080/"
        },
        "id": "A9IZtT2mnWck",
        "outputId": "9f4ed672-0814-4b0e-db6c-3762d9e0e0d3"
      },
      "source": [
        "hidden_size = 64\n",
        "deepconn = DeepCoNN(hidden_size)\n",
        "\n",
        "deepconn.train(train_dataset.shuffle(5000), batch_size=32, epochs=NO_EPOCHS, validation_dataset=test_dataset, callbacks=[tensorboard_callback, lr_callback, checkpoint_callback])\n",
        "\n",
        "deepconn.model.save_weights(os.path.join(dir_prefix,f\"baas-base_attentive-2-{datetime.datetime.now().strftime('%Y%m%d-%H%M%S')}.h5\"))"
      ],
      "execution_count": null,
      "outputs": [
        {
          "output_type": "stream",
          "text": [
            "Model: \"model\"\n",
            "__________________________________________________________________________________________________\n",
            "Layer (type)                    Output Shape         Param #     Connected to                     \n",
            "==================================================================================================\n",
            "user_embedding (InputLayer)     [(None, 768)]        0                                            \n",
            "__________________________________________________________________________________________________\n",
            "item_embedding (InputLayer)     [(None, 768)]        0                                            \n",
            "__________________________________________________________________________________________________\n",
            "user_dense_64 (Dense)           (None, 64)           49216       user_embedding[0][0]             \n",
            "__________________________________________________________________________________________________\n",
            "item_dense_64 (Dense)           (None, 64)           49216       item_embedding[0][0]             \n",
            "__________________________________________________________________________________________________\n",
            "concatenate (Concatenate)       (None, 128)          0           user_dense_64[0][0]              \n",
            "                                                                 item_dense_64[0][0]              \n",
            "__________________________________________________________________________________________________\n",
            "dropout (Dropout)               (None, 128)          0           concatenate[0][0]                \n",
            "__________________________________________________________________________________________________\n",
            "dense (Dense)                   (None, 1)            129         dropout[0][0]                    \n",
            "__________________________________________________________________________________________________\n",
            "dot (Dot)                       (None, 1)            0           user_dense_64[0][0]              \n",
            "                                                                 item_dense_64[0][0]              \n",
            "__________________________________________________________________________________________________\n",
            "rating (Add)                    (None, 1)            0           dense[0][0]                      \n",
            "                                                                 dot[0][0]                        \n",
            "==================================================================================================\n",
            "Total params: 98,561\n",
            "Trainable params: 98,561\n",
            "Non-trainable params: 0\n",
            "__________________________________________________________________________________________________\n",
            "None\n",
            "Epoch 1/40\n",
            "\n",
            "Epoch 00001: LearningRateScheduler reducing learning rate to 0.0001.\n",
            "19416/19416 [==============================] - 396s 17ms/step - loss: 1.0763 - val_loss: 1.0144\n",
            "Epoch 2/40\n",
            "\n",
            "Epoch 00002: LearningRateScheduler reducing learning rate to 0.00055.\n",
            "19416/19416 [==============================] - 397s 17ms/step - loss: 1.1019 - val_loss: 0.9640\n",
            "Epoch 3/40\n",
            "\n",
            "Epoch 00003: LearningRateScheduler reducing learning rate to 0.001.\n",
            "19416/19416 [==============================] - 395s 17ms/step - loss: 1.0692 - val_loss: 1.1273\n",
            "Epoch 4/40\n",
            "\n",
            "Epoch 00004: LearningRateScheduler reducing learning rate to 0.0008515.\n",
            "19416/19416 [==============================] - 395s 17ms/step - loss: 1.0081 - val_loss: 0.9383\n",
            "Epoch 5/40\n",
            "\n",
            "Epoch 00005: LearningRateScheduler reducing learning rate to 0.0007252749999999999.\n",
            "19416/19416 [==============================] - 397s 17ms/step - loss: 0.9798 - val_loss: 0.9201\n",
            "Epoch 6/40\n",
            "\n",
            "Epoch 00006: LearningRateScheduler reducing learning rate to 0.0006179837499999999.\n",
            "19416/19416 [==============================] - 396s 17ms/step - loss: 0.9451 - val_loss: 1.0334\n",
            "Epoch 7/40\n",
            "\n",
            "Epoch 00007: LearningRateScheduler reducing learning rate to 0.0005267861874999999.\n",
            "19416/19416 [==============================] - 394s 17ms/step - loss: 0.9329 - val_loss: 1.0916\n",
            "Epoch 8/40\n",
            "\n",
            "Epoch 00008: LearningRateScheduler reducing learning rate to 0.00044926825937499995.\n",
            "19416/19416 [==============================] - 394s 17ms/step - loss: 0.9162 - val_loss: 0.9356\n",
            "Epoch 9/40\n",
            "\n",
            "Epoch 00009: LearningRateScheduler reducing learning rate to 0.00038337802046874993.\n",
            "19416/19416 [==============================] - 396s 17ms/step - loss: 0.8911 - val_loss: 0.9287\n",
            "Epoch 10/40\n",
            "\n",
            "Epoch 00010: LearningRateScheduler reducing learning rate to 0.00032737131739843747.\n",
            "19416/19416 [==============================] - 394s 17ms/step - loss: 0.8897 - val_loss: 0.9159\n",
            "Epoch 11/40\n",
            "\n",
            "Epoch 00011: LearningRateScheduler reducing learning rate to 0.00027976561978867184.\n",
            "19416/19416 [==============================] - 401s 17ms/step - loss: 0.8757 - val_loss: 0.9163\n",
            "Epoch 12/40\n",
            "\n",
            "Epoch 00012: LearningRateScheduler reducing learning rate to 0.00023930077682037104.\n",
            "19416/19416 [==============================] - 398s 17ms/step - loss: 0.8771 - val_loss: 0.9216\n",
            "Epoch 13/40\n",
            "\n",
            "Epoch 00013: LearningRateScheduler reducing learning rate to 0.00020490566029731538.\n",
            "19416/19416 [==============================] - 395s 17ms/step - loss: 0.8783 - val_loss: 0.9301\n",
            "Epoch 14/40\n",
            "\n",
            "Epoch 00014: LearningRateScheduler reducing learning rate to 0.00017566981125271807.\n",
            "19416/19416 [==============================] - 385s 16ms/step - loss: 0.8584 - val_loss: 0.9132\n",
            "Epoch 15/40\n",
            "\n",
            "Epoch 00015: LearningRateScheduler reducing learning rate to 0.00015081933956481036.\n",
            "19416/19416 [==============================] - 395s 16ms/step - loss: 0.8546 - val_loss: 0.9110\n",
            "Epoch 16/40\n",
            "\n",
            "Epoch 00016: LearningRateScheduler reducing learning rate to 0.0001296964386300888.\n",
            "19416/19416 [==============================] - 379s 16ms/step - loss: 0.8572 - val_loss: 0.9169\n",
            "Epoch 17/40\n",
            "\n",
            "Epoch 00017: LearningRateScheduler reducing learning rate to 0.00011174197283557547.\n",
            "19416/19416 [==============================] - 379s 16ms/step - loss: 0.8633 - val_loss: 0.9197\n",
            "Epoch 18/40\n",
            "\n",
            "Epoch 00018: LearningRateScheduler reducing learning rate to 9.648067691023915e-05.\n",
            "19416/19416 [==============================] - 381s 16ms/step - loss: 0.8505 - val_loss: 0.9152\n",
            "Epoch 19/40\n",
            "\n",
            "Epoch 00019: LearningRateScheduler reducing learning rate to 8.350857537370327e-05.\n",
            "19416/19416 [==============================] - 389s 16ms/step - loss: 0.8492 - val_loss: 0.9132\n",
            "Epoch 20/40\n",
            "\n",
            "Epoch 00020: LearningRateScheduler reducing learning rate to 7.248228906764778e-05.\n",
            "19416/19416 [==============================] - 387s 16ms/step - loss: 0.8286 - val_loss: 0.9189\n",
            "Epoch 21/40\n",
            "\n",
            "Epoch 00021: LearningRateScheduler reducing learning rate to 6.310994570750061e-05.\n",
            "19416/19416 [==============================] - 390s 17ms/step - loss: 0.8418 - val_loss: 0.9146\n",
            "Epoch 22/40\n",
            "\n",
            "Epoch 00022: LearningRateScheduler reducing learning rate to 5.514345385137552e-05.\n",
            "19416/19416 [==============================] - 394s 17ms/step - loss: 0.8316 - val_loss: 0.9109\n",
            "Epoch 23/40\n",
            "\n",
            "Epoch 00023: LearningRateScheduler reducing learning rate to 4.837193577366919e-05.\n",
            "19416/19416 [==============================] - 388s 16ms/step - loss: 0.8547 - val_loss: 0.9114\n",
            "Epoch 24/40\n",
            "\n",
            "Epoch 00024: LearningRateScheduler reducing learning rate to 4.261614540761881e-05.\n",
            "19416/19416 [==============================] - 388s 16ms/step - loss: 0.8280 - val_loss: 0.9107\n",
            "Epoch 25/40\n",
            "\n",
            "Epoch 00025: LearningRateScheduler reducing learning rate to 3.772372359647599e-05.\n",
            "19416/19416 [==============================] - 392s 16ms/step - loss: 0.8208 - val_loss: 0.9146\n",
            "Epoch 26/40\n",
            "\n",
            "Epoch 00026: LearningRateScheduler reducing learning rate to 3.356516505700459e-05.\n",
            "19416/19416 [==============================] - 383s 16ms/step - loss: 0.8312 - val_loss: 0.9112\n",
            "Epoch 27/40\n",
            "\n",
            "Epoch 00027: LearningRateScheduler reducing learning rate to 3.0030390298453904e-05.\n",
            "19416/19416 [==============================] - 380s 16ms/step - loss: 0.8332 - val_loss: 0.9158\n",
            "Epoch 28/40\n",
            "\n",
            "Epoch 00028: LearningRateScheduler reducing learning rate to 2.7025831753685816e-05.\n",
            "19416/19416 [==============================] - 381s 16ms/step - loss: 0.8289 - val_loss: 0.9109\n",
            "Epoch 29/40\n",
            "\n",
            "Epoch 00029: LearningRateScheduler reducing learning rate to 2.4471956990632945e-05.\n",
            "19416/19416 [==============================] - 382s 16ms/step - loss: 0.8547 - val_loss: 0.9297\n",
            "Epoch 30/40\n",
            "\n",
            "Epoch 00030: LearningRateScheduler reducing learning rate to 2.2301163442038002e-05.\n",
            "19416/19416 [==============================] - 379s 16ms/step - loss: 0.8468 - val_loss: 0.9248\n",
            "Epoch 31/40\n",
            "\n",
            "Epoch 00031: LearningRateScheduler reducing learning rate to 2.0455988925732302e-05.\n",
            "19416/19416 [==============================] - 380s 16ms/step - loss: 0.8348 - val_loss: 0.9129\n",
            "Epoch 32/40\n",
            "\n",
            "Epoch 00032: LearningRateScheduler reducing learning rate to 1.8887590586872457e-05.\n",
            "19416/19416 [==============================] - 384s 16ms/step - loss: 0.8250 - val_loss: 0.9120\n",
            "Epoch 33/40\n",
            "\n",
            "Epoch 00033: LearningRateScheduler reducing learning rate to 1.755445199884159e-05.\n",
            "19416/19416 [==============================] - 391s 16ms/step - loss: 0.8303 - val_loss: 0.9107\n",
            "Epoch 34/40\n",
            "\n",
            "Epoch 00034: LearningRateScheduler reducing learning rate to 1.642128419901535e-05.\n",
            "19416/19416 [==============================] - 386s 16ms/step - loss: 0.8342 - val_loss: 0.9108\n",
            "Epoch 35/40\n",
            "\n",
            "Epoch 00035: LearningRateScheduler reducing learning rate to 1.5458091569163046e-05.\n",
            "19416/19416 [==============================] - 388s 16ms/step - loss: 0.8283 - val_loss: 0.9122\n",
            "Epoch 36/40\n",
            "\n",
            "Epoch 00036: LearningRateScheduler reducing learning rate to 1.463937783378859e-05.\n",
            "19416/19416 [==============================] - 395s 17ms/step - loss: 0.8378 - val_loss: 0.9114\n",
            "Epoch 37/40\n",
            "\n",
            "Epoch 00037: LearningRateScheduler reducing learning rate to 1.3943471158720302e-05.\n",
            "19416/19416 [==============================] - 399s 17ms/step - loss: 0.8420 - val_loss: 0.9133\n",
            "Epoch 38/40\n",
            "\n",
            "Epoch 00038: LearningRateScheduler reducing learning rate to 1.3351950484912256e-05.\n",
            "19416/19416 [==============================] - 401s 17ms/step - loss: 0.8363 - val_loss: 0.9130\n",
            "Epoch 39/40\n",
            "\n",
            "Epoch 00039: LearningRateScheduler reducing learning rate to 1.2849157912175418e-05.\n",
            "19416/19416 [==============================] - 403s 17ms/step - loss: 0.8255 - val_loss: 0.9137\n",
            "Epoch 40/40\n",
            "\n",
            "Epoch 00040: LearningRateScheduler reducing learning rate to 1.2421784225349106e-05.\n",
            "19416/19416 [==============================] - 394s 17ms/step - loss: 0.8221 - val_loss: 0.9221\n"
          ],
          "name": "stdout"
        }
      ]
    },
    {
      "cell_type": "code",
      "metadata": {
        "id": "EQe_1ArE3m8x"
      },
      "source": [
        "# Load the TensorBoard notebook extension\n",
        "%load_ext tensorboard"
      ],
      "execution_count": null,
      "outputs": []
    },
    {
      "cell_type": "code",
      "metadata": {
        "ExecuteTime": {
          "end_time": "2021-04-01T02:29:17.291494Z",
          "start_time": "2021-04-01T02:29:17.284500Z"
        },
        "id": "8oH5xzmTmMyE",
        "outputId": "397ba371-e003-4c71-c91a-8edf1f2c6b35"
      },
      "source": [
        "np.__version__"
      ],
      "execution_count": null,
      "outputs": [
        {
          "output_type": "execute_result",
          "data": {
            "text/plain": [
              "'1.20.2'"
            ]
          },
          "metadata": {
            "tags": []
          },
          "execution_count": 59
        }
      ]
    },
    {
      "cell_type": "code",
      "metadata": {
        "id": "uey287YX3nZr"
      },
      "source": [
        "%tensorboard --logdir logs/tensorboard/base/"
      ],
      "execution_count": null,
      "outputs": []
    },
    {
      "cell_type": "code",
      "metadata": {
        "id": "4IxMGiibMP7S"
      },
      "source": [
        "# ---- If OOM, restart instance and load weights from here"
      ],
      "execution_count": null,
      "outputs": []
    },
    {
      "cell_type": "code",
      "metadata": {
        "id": "X2MmmHfYMP-H"
      },
      "source": [
        "hidden_size = 64\n",
        "deepconn = DeepCoNN(hidden_size)\n",
        "deepconn.create_deepconn_dp()\n",
        "deepconn.model.load_weights('/content/drive/MyDrive/W266/data/individual_reviews_bert_uncased/baas-base_attentive-2-20210404-055344.h5')\n"
      ],
      "execution_count": null,
      "outputs": []
    },
    {
      "cell_type": "code",
      "metadata": {
        "id": "ZE5NjAGcRXWg"
      },
      "source": [
        ""
      ],
      "execution_count": null,
      "outputs": []
    },
    {
      "cell_type": "code",
      "metadata": {
        "ExecuteTime": {
          "end_time": "2021-03-29T00:31:42.391206Z",
          "start_time": "2021-03-29T00:31:40.696271Z"
        },
        "id": "LQM6fRyBoMAh"
      },
      "source": [
        "# pool of all posssible review embeddings\n",
        "held_out_test_raw_data = pd.read_pickle(os.path.join(dir_prefix,\"final_dataset_bert_mean_pooled_heldout-test-3-11.pkl.gz\")).drop_duplicates(subset=['asin','reviewerID']).drop('bert_embedding',axis=1)\n",
        "# the 'usable' rows which have >= 10 reviews per reviewerID and asin\n",
        "held_out_test_usable = held_out_test_raw_data[(held_out_test_raw_data['userReviewsCount'] >=10) \n",
        "                                              & (held_out_test_raw_data['itemReviewsCount'] >=10) &\n",
        "                                             (held_out_test_raw_data['userReviewsCount'] <=max_review_count)  &\n",
        "                                             (held_out_test_raw_data['itemReviewsCount'] <=max_review_count)  ][['asin','reviewerID','overall']]\n",
        "# sort the pool of possible review embeddings for quick retrieval\n",
        "user_sorted_held_out = held_out_test_raw_data.sort_values('reviewerID')\n",
        "item_sorted_held_out = held_out_test_raw_data.sort_values('asin')"
      ],
      "execution_count": null,
      "outputs": []
    },
    {
      "cell_type": "code",
      "metadata": {
        "ExecuteTime": {
          "end_time": "2021-03-31T04:46:06.234343Z",
          "start_time": "2021-03-31T04:46:06.200881Z"
        },
        "id": "ufu8X6C2dJwI"
      },
      "source": [
        "# same thing as training_dataset_generator but loops over test data\n",
        "def held_out_test_dataset_generator():\n",
        "    # iterate through each testing row\n",
        "    for _, row in held_out_test_usable.iterrows():\n",
        "        # get the grouped list of embedding vectors for userReviews and itemReviews\n",
        "        yield dataset_generator(row, user_sorted_held_out, item_sorted_held_out)\n",
        "\n",
        "# create tf.dataset object from generator w/ signature\n",
        "held_out_test_dataset = tf.data.Dataset.from_generator(held_out_test_dataset_generator, \n",
        "                    output_signature=({'user_embedding': tf.TensorSpec(shape=(None, embedding_size), dtype=tf.float32),\n",
        "                                      'item_embedding': tf.TensorSpec(shape=(None, embedding_size), dtype=tf.float32)\n",
        "                                      #'user_token_type_ids': tf.TensorSpec(shape=(None, None, max_sentence_length), dtype=tf.int32),\n",
        "                                      #'user_attention_masks': tf.TensorSpec(shape=(None, None, max_sequence_length), dtype=tf.int32),\n",
        "                                      #'item_input_ids': tf.TensorSpec(shape=(None, None, max_sequence_length), dtype=tf.int32),\n",
        "                                      #'item_token_type_ids': tf.TensorSpec(shape=(None, None, max_sentence_length), dtype=tf.int32),\n",
        "                                      #'item_attention_masks': tf.TensorSpec(shape=(None, None, max_sequence_length), dtype=tf.int32)\n",
        "                    },\n",
        "                           {'rating':tf.TensorSpec(shape=(None), dtype=tf.float32)}))\n"
      ],
      "execution_count": null,
      "outputs": []
    },
    {
      "cell_type": "code",
      "metadata": {
        "colab": {
          "base_uri": "https://localhost:8080/"
        },
        "id": "-mlU4odCmnVN",
        "outputId": "47ff57c9-3d3f-45bc-8faf-254c086f216a"
      },
      "source": [
        "list(held_out_test_dataset.take(1))"
      ],
      "execution_count": null,
      "outputs": [
        {
          "output_type": "execute_result",
          "data": {
            "text/plain": [
              "[({'item_embedding': <tf.Tensor: shape=(1, 768), dtype=float32, numpy=\n",
              "   array([[ 2.76381791e-01, -1.73294470e-01,  1.28349721e-01,\n",
              "            1.48983285e-01,  1.71079636e-01, -2.61253774e-01,\n",
              "           -6.13903627e-02,  7.69085884e-01, -5.11165820e-02,\n",
              "           -1.82046443e-02,  3.83490086e-01, -2.98682779e-01,\n",
              "            4.15879115e-02,  3.48776370e-01, -1.53819919e-01,\n",
              "            6.62992775e-01, -1.04893237e-01,  3.81736048e-02,\n",
              "           -2.03542665e-01,  8.57330710e-02,  2.84383684e-01,\n",
              "            1.23025835e-01, -7.33106136e-02,  4.41049129e-01,\n",
              "            6.46516830e-02,  1.49767473e-01, -1.81488805e-02,\n",
              "           -4.31580469e-03, -1.85088009e-01,  1.40832752e-01,\n",
              "            3.92311454e-01,  8.50087255e-02, -1.40470475e-01,\n",
              "           -3.52805197e-01, -6.55630678e-02, -3.79733264e-01,\n",
              "           -1.65951535e-01,  1.77042276e-01, -6.20353781e-03,\n",
              "           -1.18045747e-01, -2.62401819e-01, -2.25688726e-01,\n",
              "            4.44781631e-01, -2.95065761e-01,  7.68095069e-03,\n",
              "            1.42566189e-02,  2.05452770e-01, -1.47351429e-01,\n",
              "            1.58782482e-01, -2.58591294e-01, -1.44833133e-01,\n",
              "           -8.46510082e-02, -2.07507819e-01, -9.40347463e-02,\n",
              "            4.02278602e-01,  2.47178510e-01, -3.03820550e-01,\n",
              "           -2.62590975e-01, -2.08956361e-01,  1.15918018e-01,\n",
              "           -1.64038748e-01, -7.56692439e-02, -6.14079982e-02,\n",
              "           -5.44214547e-01,  7.55449235e-02, -1.83348566e-01,\n",
              "            7.87617639e-03, -5.42289875e-02, -1.12210333e-01,\n",
              "            8.81343260e-02, -3.59619483e-02, -1.02432594e-01,\n",
              "            4.82173488e-02, -1.19879082e-01, -1.44930094e-01,\n",
              "           -6.07255250e-02,  8.05569962e-02,  2.88450778e-01,\n",
              "           -3.34677756e-01,  1.47178039e-01,  1.62555575e-02,\n",
              "            5.22834957e-01,  1.61355197e-01,  4.39842492e-01,\n",
              "            1.53910786e-01,  3.54201198e-01,  2.18696892e-01,\n",
              "            2.02141076e-01, -2.81737089e-01,  2.25154907e-01,\n",
              "           -2.76396155e-01, -3.24736565e-01,  1.46884307e-01,\n",
              "            9.69267488e-02,  4.65256631e-01, -2.79269814e-01,\n",
              "            7.78301135e-02, -1.72530264e-02, -6.77033328e-03,\n",
              "            2.65091091e-01,  1.95152059e-01, -3.10423046e-01,\n",
              "           -1.01087771e-01, -5.38915575e-01,  1.37388989e-01,\n",
              "            1.53315952e-02,  1.88266888e-01,  2.05091208e-01,\n",
              "            2.33996026e-02,  1.70681581e-01, -1.26261175e-01,\n",
              "           -4.35436293e-02,  1.64436117e-01, -1.44725263e-01,\n",
              "           -3.88037041e-02,  4.94486764e-02, -2.67711163e-01,\n",
              "           -2.31550545e-01,  6.90384880e-02,  4.30034786e-01,\n",
              "           -2.59786159e-01, -1.44309342e-01, -9.33906883e-02,\n",
              "            1.90717474e-01, -8.67173895e-02,  1.76959455e-01,\n",
              "           -5.70519567e-02, -1.72402158e-01, -1.35659188e-01,\n",
              "           -2.73996145e-01,  2.70875484e-01,  3.17464083e-01,\n",
              "            1.82053342e-01, -3.01111102e-01, -1.81783855e-01,\n",
              "            7.97750279e-02,  7.72555992e-02, -3.84906262e-01,\n",
              "           -4.54534650e-01, -3.90435874e-01,  1.23565802e-02,\n",
              "           -2.45862678e-02,  6.73907399e-02,  3.16077083e-01,\n",
              "           -2.09032912e-02, -1.74247503e-01, -1.07482910e-01,\n",
              "           -1.59472376e-01, -8.12747180e-02, -3.95770408e-02,\n",
              "           -1.88405365e-01,  6.47660717e-02, -6.06438398e-01,\n",
              "           -2.36219153e-01, -3.31157327e-01,  6.65379018e-02,\n",
              "           -4.79280204e-01, -2.56013386e-02,  2.20693931e-01,\n",
              "           -6.04892112e-02,  1.71383217e-01, -2.58266240e-01,\n",
              "           -1.94316268e-01,  1.37820631e-01,  1.90995201e-01,\n",
              "           -4.20076698e-02, -8.98002237e-02,  5.26885033e-01,\n",
              "           -2.91829973e-01, -1.83689110e-02,  7.76688010e-02,\n",
              "            2.42805317e-01,  6.95733130e-02,  1.85181033e-02,\n",
              "            2.36661613e-01, -2.58774847e-01,  2.63214678e-01,\n",
              "            4.30969894e-01,  3.05262804e-01,  3.89372349e-01,\n",
              "           -4.40589339e-01,  1.47490084e-01,  1.76285803e-02,\n",
              "           -1.96402758e-01, -1.32536236e-02, -9.67735611e-03,\n",
              "            2.29684249e-01, -2.91400224e-01,  2.26170525e-01,\n",
              "           -7.71854222e-02, -2.73483098e-01,  2.14922726e-01,\n",
              "            1.61448523e-01, -3.64481002e-01,  2.05526382e-01,\n",
              "           -2.70082861e-01,  1.37629770e-02, -2.62475491e-01,\n",
              "            1.86345741e-01, -3.79271023e-02,  3.05296332e-02,\n",
              "            7.54448250e-02,  9.92358625e-02, -9.59601924e-02,\n",
              "           -1.97955575e-02,  1.24578565e-01, -4.28167209e-02,\n",
              "           -1.52224392e-01, -1.17747173e-01,  2.57521480e-01,\n",
              "           -1.22934610e-01,  4.09099817e-01,  1.43029824e-01,\n",
              "            5.22254258e-02,  2.40428392e-02,  2.79699683e-01,\n",
              "           -3.73885296e-02, -7.58676082e-02,  3.14647198e-01,\n",
              "           -7.36276209e-02,  5.94500192e-02,  2.45382875e-01,\n",
              "           -3.73029232e-01,  1.83407992e-01, -1.10879034e-01,\n",
              "            8.69610071e-01, -1.16608195e-01, -3.42449307e-01,\n",
              "            2.66325712e-01,  5.92406616e-02, -2.69149214e-01,\n",
              "            3.00390795e-02, -3.19663361e-02, -2.25051060e-01,\n",
              "            1.97989922e-02,  1.80886120e-01, -2.31648795e-02,\n",
              "           -2.78280616e-01, -3.97202857e-02,  1.11151055e-01,\n",
              "           -2.04239309e-01,  1.24512531e-01, -2.74454486e-02,\n",
              "            2.24241570e-01, -4.72141337e-03,  2.37751845e-02,\n",
              "           -2.26564586e-01, -3.99479687e-01, -2.16887802e-01,\n",
              "           -1.79995075e-01, -4.71553355e-01, -5.24770245e-02,\n",
              "           -1.04657963e-01, -1.89963594e-01,  1.43304169e-01,\n",
              "            1.20988309e-01, -2.42297307e-01, -5.37736893e-01,\n",
              "           -9.48680490e-02, -1.47779316e-01,  2.95609444e-01,\n",
              "           -3.46867181e-02, -1.46122456e-01, -5.85271306e-02,\n",
              "           -4.52713341e-01, -2.96270758e-01,  1.87172234e-01,\n",
              "            5.13627231e-02,  1.89335912e-01,  3.67964655e-01,\n",
              "           -3.53739075e-02,  8.83283541e-02,  1.39784977e-01,\n",
              "            6.16343915e-01, -3.50877084e-03, -1.39232695e-01,\n",
              "           -5.43215089e-02, -6.40593693e-02,  1.83096975e-01,\n",
              "           -3.05411488e-01,  1.92357555e-01,  4.10902560e-01,\n",
              "           -3.35543156e-01, -1.38441967e-02, -4.74796414e-01,\n",
              "           -1.02548413e-01,  3.16243172e-01,  9.19013321e-02,\n",
              "           -7.64997229e-02, -2.65681058e-01, -1.06876969e-01,\n",
              "           -6.22122064e-02, -4.99775082e-01, -4.30041939e-01,\n",
              "            6.81468785e-01, -8.48926008e-02,  3.73197049e-02,\n",
              "           -1.24945091e-02, -3.77759397e-01, -2.08555102e-01,\n",
              "           -2.85532743e-01, -3.50501686e-02,  3.20008934e-01,\n",
              "           -2.36996934e-01,  3.76929007e-02,  4.96037528e-02,\n",
              "           -4.58903432e-01, -3.40167940e-01, -9.93238449e+00,\n",
              "           -2.63660491e-01,  5.10478020e-02, -3.72866988e-02,\n",
              "            3.25734466e-01, -1.19939879e-01,  2.98431236e-03,\n",
              "           -2.56579012e-01, -6.79146871e-02,  7.59329870e-02,\n",
              "           -7.49325156e-02, -7.04867840e-02, -1.00393601e-01,\n",
              "            4.31530252e-02,  1.18147783e-01, -3.48963857e-01,\n",
              "            9.31300819e-02, -1.04188714e-02, -3.71398032e-02,\n",
              "            4.76094633e-01, -2.70271122e-01, -3.22395772e-01,\n",
              "            5.58392406e-01, -2.11504757e-01,  2.01528788e-01,\n",
              "            4.47357118e-01, -9.68573913e-02, -4.52980101e-02,\n",
              "           -1.88663214e-01, -6.50804937e-02, -2.45265976e-01,\n",
              "           -1.98408037e-01, -2.55289406e-01,  7.50458837e-01,\n",
              "            6.50487840e-02, -1.12389386e-01, -5.32518551e-02,\n",
              "           -5.03752470e-01,  9.27893538e-03, -1.11733414e-01,\n",
              "            1.22110322e-01, -5.23463130e-01, -1.35691419e-01,\n",
              "           -1.84133854e-02,  6.39949739e-01, -4.96030837e-01,\n",
              "            2.80441493e-01, -3.90696526e-03,  1.70765787e-01,\n",
              "            2.42259786e-01,  8.21917355e-02, -2.90875793e-01,\n",
              "            6.26002103e-02, -9.27475542e-02,  1.81748569e-02,\n",
              "            6.56848326e-02,  4.29945707e-01,  8.95557106e-01,\n",
              "           -6.95066303e-02, -5.24880946e-01,  7.08537996e-02,\n",
              "           -4.09671634e-01, -4.96168196e-01,  3.62186655e-02,\n",
              "           -2.37900779e-01,  1.88908532e-01, -2.58269072e-01,\n",
              "           -3.30202192e-01, -1.15103729e-01,  1.16722817e-02,\n",
              "           -5.68753257e-02, -2.04128884e-02, -1.63601935e-01,\n",
              "           -1.32331467e+00, -1.06333204e-01,  4.88677174e-02,\n",
              "           -5.76459616e-02,  1.82053685e-01, -2.63890803e-01,\n",
              "            4.12125140e-02, -4.15569663e-01, -2.52204329e-01,\n",
              "            3.96615602e-02,  2.31087245e-02, -1.93996951e-01,\n",
              "           -3.95370089e-02, -7.11386651e-02, -1.53699771e-01,\n",
              "           -3.49560469e-01, -2.92091332e-02,  4.64117557e-01,\n",
              "            1.36470228e-01, -8.48405585e-02,  2.97139019e-01,\n",
              "           -1.04249865e-01, -2.25118160e-01,  4.34927821e-01,\n",
              "           -1.81351364e-01,  8.85493308e-02, -1.14453778e-01,\n",
              "            1.05806068e-01,  2.51983851e-01,  2.38955826e-01,\n",
              "            2.51946747e-01, -2.20881209e-01, -3.73310208e-01,\n",
              "            2.32529208e-01,  1.14058681e-01, -8.24118257e-02,\n",
              "           -4.49660514e-03,  1.78011417e-01, -2.49683768e-01,\n",
              "            1.42717645e-01, -4.86344611e-03, -4.79723401e-02,\n",
              "           -2.99772441e-01,  2.77905077e-01,  2.18215920e-02,\n",
              "           -1.23938918e-02, -2.49883264e-01, -2.55517751e-01,\n",
              "            3.39731425e-01, -3.64545077e-01, -7.06618875e-02,\n",
              "           -3.09670776e-01,  3.78206894e-02, -2.30469778e-01,\n",
              "            1.12687424e-01, -3.50829959e-01,  6.43045157e-02,\n",
              "           -2.48966515e-01, -2.17548579e-01,  4.20206860e-02,\n",
              "            3.17939818e-01, -6.03438020e-02, -2.29802072e-01,\n",
              "           -4.95033115e-02, -7.29250193e-01,  3.45401436e-01,\n",
              "           -7.24807456e-02,  3.99415255e-01,  1.46064579e-01,\n",
              "            2.62459755e-01,  4.20047343e-01, -3.25819030e-02,\n",
              "            1.78430483e-01,  1.66671708e-01,  7.94866905e-02,\n",
              "           -1.93456754e-01, -1.28547084e-02, -3.99751395e-01,\n",
              "           -1.91088438e-01,  1.05248354e-01, -5.91091625e-02,\n",
              "            7.69250169e-02,  3.55153978e-01, -1.50713101e-01,\n",
              "           -2.11850539e-01,  2.39264723e-02, -3.71865898e-01,\n",
              "            4.80639905e-01,  1.41080856e-01,  4.87427711e-02,\n",
              "            3.72115374e-01, -1.07655019e-01, -2.89450716e-02,\n",
              "           -1.52647316e-01, -7.91707709e-02, -1.46876007e-01,\n",
              "            4.14579064e-02, -1.53658509e-01,  3.89474273e-01,\n",
              "           -4.41608950e-02, -2.17067018e-01,  2.01328009e-01,\n",
              "            3.50265831e-01, -2.59392522e-02, -1.96124136e-01,\n",
              "            4.09581475e-02,  2.21095055e-01, -5.78074567e-02,\n",
              "            2.82407645e-02, -4.19034660e-02, -2.30631128e-01,\n",
              "            3.11632037e-01,  1.98748469e-01, -2.12401077e-01,\n",
              "           -7.71039724e-02, -1.06585130e-01,  2.03900635e-01,\n",
              "           -3.83259535e-01,  3.81476313e-01, -8.76439959e-02,\n",
              "           -4.86354947e-01, -2.53741205e-01, -5.24834096e-01,\n",
              "            2.54145682e-01, -5.97465217e-01,  2.72432948e-03,\n",
              "            4.32572886e-02,  3.30484629e-01,  9.25157219e-02,\n",
              "           -2.75580466e-01,  2.18937516e-01, -2.32546940e-01,\n",
              "           -9.73142236e-02,  1.51040852e-01,  4.48268294e-01,\n",
              "            7.75068849e-02,  3.34868610e-01, -2.44237125e-01,\n",
              "           -2.69949824e-01,  1.28915325e-01, -2.55114794e-01,\n",
              "            1.68227628e-02, -1.98716536e-01, -1.07012980e-01,\n",
              "           -6.87768340e-01, -6.29133344e-01,  2.60135859e-01,\n",
              "           -2.48307705e-01, -8.31222609e-02,  6.92577288e-02,\n",
              "            1.25906140e-01, -6.18288994e-01, -2.25964636e-01,\n",
              "            2.59510815e-01, -1.46148175e-01, -2.07833901e-01,\n",
              "           -2.61478066e-01,  1.13802520e-03, -1.26308715e+00,\n",
              "            2.70385832e-01, -1.46949440e-02, -3.52368295e-01,\n",
              "            9.96733978e-02,  2.02829950e-03, -2.13381555e-02,\n",
              "            2.48123407e-01, -3.05325538e-01, -2.51703709e-01,\n",
              "           -4.32142884e-01, -3.03561389e-02,  1.90707251e-01,\n",
              "           -1.69233769e-01, -7.80341998e-02, -1.48077026e-01,\n",
              "            5.60042523e-02, -4.90765899e-01,  7.79438764e-02,\n",
              "           -8.34614486e-02, -1.46033121e-02, -1.51225120e-01,\n",
              "           -3.67415875e-01, -3.62830050e-02, -8.98621023e-01,\n",
              "           -3.97900432e-01,  2.16869965e-01, -4.85054078e-03,\n",
              "            1.58176184e-01, -2.13277414e-01, -1.79383561e-01,\n",
              "           -4.99491617e-02, -6.26638606e-02, -7.36141130e-02,\n",
              "           -1.52788475e-01,  2.20294133e-01,  2.57933587e-01,\n",
              "           -3.23626488e-01, -2.77400166e-01,  1.18752412e-01,\n",
              "           -6.22625127e-02,  1.88314587e-01,  1.00024596e-01,\n",
              "            1.70786262e-01,  1.59451753e-01, -5.24587274e-01,\n",
              "           -7.23458648e-01,  3.79464507e-01, -3.97779405e-01,\n",
              "            9.40372348e-02,  5.66049255e-02,  3.45576763e-01,\n",
              "           -2.24289834e-01, -1.74202487e-01, -3.89222145e-01,\n",
              "           -2.17282534e-01,  4.39721584e-01,  1.10154204e-01,\n",
              "            3.13917011e-01,  1.14697456e-01,  3.60595547e-02,\n",
              "           -4.88868579e-02, -1.01203725e-01,  1.28302917e-01,\n",
              "           -8.01614821e-02,  5.90437770e-01, -3.52646738e-01,\n",
              "            2.20746905e-01,  3.52873653e-02, -1.64965361e-01,\n",
              "           -2.92987853e-01,  1.70445025e-01, -9.14741959e-03,\n",
              "           -8.43890458e-02,  1.21930890e-01,  1.60992667e-01,\n",
              "           -2.16313630e-01,  1.19922608e-01,  2.96758622e-01,\n",
              "           -1.89865559e-01, -2.44883090e-01,  4.23387676e-01,\n",
              "            3.66964579e-01,  1.86900079e-01, -4.12673593e-01,\n",
              "            9.60077047e-02, -1.48984745e-01, -1.09645948e-01,\n",
              "           -4.53494377e-02,  1.40442252e-01, -2.20455304e-01,\n",
              "            4.05984044e-01, -5.02552271e-01, -1.95135161e-01,\n",
              "            4.13344443e-01, -2.23138094e-01, -2.21534878e-01,\n",
              "            1.65321812e-01,  2.25715339e-01,  1.29060606e-02,\n",
              "            3.47216129e-01, -4.01344061e-01,  1.11005530e-01,\n",
              "           -1.06085137e-01, -4.15893011e-02,  2.47449037e-02,\n",
              "            9.98518020e-02,  6.14617318e-02,  1.62052274e-01,\n",
              "           -1.61580071e-01, -7.85051137e-02,  4.28694308e-01,\n",
              "            4.37947601e-01,  2.39025250e-01, -1.67015120e-01,\n",
              "            1.35363657e-02, -1.71291865e-02,  6.06575429e-01,\n",
              "            6.56246543e-02,  4.68228273e-02, -2.01766863e-02,\n",
              "            2.33430669e-01,  7.27512781e-03,  6.02732718e-01,\n",
              "            7.15883300e-02,  2.19226658e-01,  7.15690330e-02,\n",
              "            8.91623497e-02,  6.61995947e-01,  3.78685325e-01,\n",
              "            9.61477607e-02,  4.15196791e-02, -3.37846905e-01,\n",
              "            1.69777453e-01,  1.61728114e-01, -3.36505510e-02,\n",
              "            7.98800290e-02, -6.00871742e-02, -1.17310762e-01,\n",
              "            6.53910041e-02, -1.78634986e-01,  1.52522504e-01,\n",
              "           -4.32483792e-01,  9.91809145e-02,  2.56723166e-01,\n",
              "           -1.30813882e-01,  7.32902065e-03, -1.59134716e-01,\n",
              "            1.10876366e-01, -3.24802808e-02,  2.24225260e-02,\n",
              "           -5.48739970e-01, -1.11892119e-01,  3.51723954e-02,\n",
              "           -2.57376641e-01, -1.52386710e-01, -2.78027594e-01,\n",
              "            6.74631149e-02, -2.44155422e-01, -2.42630616e-01,\n",
              "            5.74430451e-03, -3.27711739e-02, -3.33062023e-01,\n",
              "            1.03594549e-01, -1.82639137e-01,  1.13669977e-01,\n",
              "           -1.08692292e-02,  1.37236848e-01, -7.68434629e-03,\n",
              "            8.86232704e-02, -2.67243851e-03, -1.27442926e-01,\n",
              "            3.56104553e-01, -1.56741276e-01,  1.08782865e-01,\n",
              "           -3.15929800e-01,  3.06031644e-01, -4.35076833e-01,\n",
              "            4.40210570e-03,  5.25886789e-02,  5.41512311e-01,\n",
              "           -2.81924121e-02,  1.13687506e-02, -1.12176061e-01,\n",
              "           -8.96181911e-02, -1.73335746e-02, -3.34661365e-01,\n",
              "           -1.14857085e-01, -1.44219235e-01, -2.84160882e-01,\n",
              "           -4.87674654e-01, -1.07032716e-01,  3.20605159e-01,\n",
              "            3.87397110e-02, -2.92419866e-02,  5.63770309e-02,\n",
              "            1.30839884e-01, -2.34506577e-01, -1.72167212e-01,\n",
              "            8.30162503e-03,  2.37934053e-01,  2.48099759e-01,\n",
              "            1.38262510e-02, -2.72280872e-01, -1.38504446e-01,\n",
              "           -7.40675405e-02, -4.64438871e-02, -5.29667549e-02,\n",
              "            1.38446361e-01, -4.92993183e-02,  2.83695728e-01,\n",
              "            3.65254879e-02, -3.15353960e-01,  2.44908750e-01,\n",
              "            1.45825744e-01,  1.14658885e-02,  5.68264201e-02,\n",
              "           -3.13689381e-01, -2.16097876e-01, -3.09656173e-01,\n",
              "           -1.34488672e-01,  1.77985191e-01,  1.26401372e-02,\n",
              "           -2.63495684e-01,  3.22066545e-01, -1.59081876e-01,\n",
              "           -2.16880560e-01,  3.34816396e-01, -1.01584867e-01]], dtype=float32)>,\n",
              "   'user_embedding': <tf.Tensor: shape=(1, 768), dtype=float32, numpy=\n",
              "   array([[ 1.89434722e-01, -1.83336601e-01,  4.85269576e-01,\n",
              "            1.89092815e-01,  2.25470975e-01, -2.42853642e-01,\n",
              "           -1.64166078e-01,  7.39866972e-01, -1.77318603e-01,\n",
              "           -5.34187593e-02,  4.47861105e-01, -2.85520285e-01,\n",
              "            1.57868247e-02,  3.78712744e-01, -1.79023594e-01,\n",
              "            4.09025937e-01,  9.44175422e-02,  2.45865107e-01,\n",
              "           -2.09849507e-01,  2.54704386e-01,  3.30289632e-01,\n",
              "           -9.04697776e-02, -4.44133505e-02,  3.84675741e-01,\n",
              "           -2.07898561e-02,  1.67465389e-01, -2.40363646e-03,\n",
              "           -5.40057197e-02, -1.98984295e-01, -2.23930292e-02,\n",
              "            4.66449529e-01,  1.40673608e-01,  1.87123746e-01,\n",
              "           -1.42898977e-01,  2.91253068e-03, -3.80090594e-01,\n",
              "           -1.62202626e-01, -6.69392012e-03, -9.52985734e-02,\n",
              "            4.52710427e-02, -2.68395901e-01, -1.29790485e-01,\n",
              "            3.56579244e-01, -1.60539716e-01,  3.53928134e-02,\n",
              "            1.70544565e-01,  1.81911498e-01, -2.41785333e-01,\n",
              "            1.78099647e-01, -2.00025097e-01, -2.89337277e-01,\n",
              "            1.22421458e-02, -6.80633783e-02, -1.90385148e-01,\n",
              "            4.82520700e-01,  1.81111187e-01, -2.53615856e-01,\n",
              "           -3.72986764e-01, -1.72293514e-01,  8.90866891e-02,\n",
              "           -1.05885670e-01, -1.72933400e-01, -3.34466547e-02,\n",
              "           -3.19730222e-01,  2.11689551e-03, -2.08970845e-01,\n",
              "            3.61311100e-02,  2.41827115e-01, -1.59777939e-01,\n",
              "            1.13100456e-02, -9.26939696e-02, -1.90514013e-01,\n",
              "            3.41055125e-01, -1.65951088e-01, -1.48729458e-02,\n",
              "            6.87856153e-02,  6.37304932e-02,  7.83409476e-02,\n",
              "           -1.19157612e-01,  1.28222406e-02, -5.58624640e-02,\n",
              "            6.06050670e-01,  7.54860193e-02,  3.43485147e-01,\n",
              "            2.44215697e-01,  4.64819908e-01, -3.62557359e-04,\n",
              "           -7.13841915e-02, -3.15000772e-01,  3.18960875e-01,\n",
              "           -1.76638186e-01, -4.01843786e-01,  2.69579917e-01,\n",
              "            5.37129492e-03,  5.68421364e-01, -4.86619741e-01,\n",
              "            8.08512941e-02,  6.68558292e-04, -1.58690169e-01,\n",
              "            1.93959564e-01,  2.98136324e-01, -2.59576410e-01,\n",
              "           -1.39492691e-01, -4.89028990e-01,  2.79667191e-02,\n",
              "           -4.17830870e-02,  2.96767261e-02,  3.15373838e-01,\n",
              "           -2.08515272e-01,  1.16750356e-02, -4.17910777e-02,\n",
              "            7.60189146e-02,  2.18080208e-01, -3.21039975e-01,\n",
              "           -2.63249665e-01,  1.62540510e-01, -1.34650335e-01,\n",
              "           -6.78728372e-02,  2.24701539e-02,  3.67526233e-01,\n",
              "           -1.57475069e-01, -3.78618948e-02, -1.50720164e-01,\n",
              "            9.32558179e-02, -7.65150413e-03,  4.65382487e-02,\n",
              "           -2.13478841e-02, -9.08965468e-02, -3.41094984e-03,\n",
              "           -3.71831834e-01,  2.67482400e-01,  2.42759258e-01,\n",
              "            2.02788636e-01, -2.90106088e-01, -5.01713753e-02,\n",
              "            1.23242728e-01, -6.59580007e-02, -2.78183639e-01,\n",
              "           -3.73945475e-01, -3.60699356e-01,  4.08749618e-02,\n",
              "            1.96950182e-01, -4.23730537e-02,  3.08816850e-01,\n",
              "           -1.43092563e-02, -1.53337838e-03, -1.45906396e-02,\n",
              "           -4.79968861e-02, -1.64477095e-01, -9.94663090e-02,\n",
              "           -6.10048026e-02, -2.42896657e-02, -4.55902010e-01,\n",
              "           -3.11444581e-01, -3.72880429e-01, -2.08158419e-03,\n",
              "           -3.44766796e-01,  9.16195065e-02,  5.61270118e-02,\n",
              "            1.01831444e-01,  1.79768577e-01, -2.19807446e-01,\n",
              "           -2.87407339e-02,  3.63990575e-01,  1.22502789e-01,\n",
              "            3.07748280e-03, -1.69049218e-01,  5.31545520e-01,\n",
              "           -1.43631175e-01, -2.17481889e-03,  1.32430017e-01,\n",
              "            2.32065767e-01,  8.09542462e-02, -2.05329172e-02,\n",
              "            2.60697484e-01, -2.83997566e-01,  1.66760549e-01,\n",
              "            2.57135659e-01,  2.83435076e-01,  2.59567559e-01,\n",
              "           -4.41779882e-01,  1.21054918e-01,  1.39521658e-02,\n",
              "           -4.08741310e-02,  1.49121210e-01,  1.10394239e-01,\n",
              "            2.66788363e-01, -1.99827418e-01,  3.91132295e-01,\n",
              "            8.58880207e-02, -2.80574262e-01,  9.51440036e-02,\n",
              "            2.28276610e-01, -1.46815047e-01,  7.24233836e-02,\n",
              "           -7.73648843e-02, -2.50305850e-02, -2.53580421e-01,\n",
              "            1.36140853e-01, -5.20922840e-02, -1.43489670e-02,\n",
              "           -1.51304705e-02, -3.30006406e-02,  8.66342038e-02,\n",
              "           -7.70374164e-02,  1.26481190e-01, -1.48758322e-01,\n",
              "           -2.99898945e-02,  1.08216003e-01,  2.51642257e-01,\n",
              "           -1.34200081e-01,  4.04857695e-01,  7.94793293e-02,\n",
              "            2.15502784e-01,  6.55590668e-02,  2.54584610e-01,\n",
              "           -1.02022931e-01, -1.53116554e-01,  2.14677423e-01,\n",
              "           -1.22861929e-01,  1.97987743e-02,  2.29837999e-01,\n",
              "           -5.26122689e-01,  2.01603949e-01, -2.07890242e-01,\n",
              "            8.74126434e-01, -7.50939772e-02, -6.11494541e-01,\n",
              "            2.32551172e-01,  8.56769010e-02, -1.15140691e-01,\n",
              "           -2.15627313e-01,  1.72102317e-01, -7.56163336e-03,\n",
              "            1.75039813e-01,  1.99921563e-01, -1.73519105e-01,\n",
              "           -4.70285773e-01, -1.03223905e-01, -1.64358020e-01,\n",
              "           -2.22675279e-01,  3.06402475e-01,  1.17596045e-01,\n",
              "            1.32420182e-01, -2.09813267e-02,  9.73926112e-02,\n",
              "           -9.38763171e-02, -3.66854697e-01, -1.45780593e-01,\n",
              "           -1.77181214e-01, -2.38605678e-01, -1.24520771e-01,\n",
              "           -6.56355172e-02, -1.06785625e-01,  1.16453260e-01,\n",
              "           -7.13565527e-03, -3.08737397e-01, -2.50733107e-01,\n",
              "           -6.33617043e-02,  4.41404656e-02,  2.16657817e-01,\n",
              "            3.43792187e-03, -5.37635311e-02, -8.95847678e-02,\n",
              "           -2.67025560e-01, -3.83968532e-01,  2.29535416e-01,\n",
              "           -6.10134564e-03,  1.15554005e-01,  1.62346706e-01,\n",
              "           -1.45741761e-01, -7.93021917e-02,  2.33166963e-01,\n",
              "            5.83181381e-01,  1.34011626e-01, -1.01738751e-01,\n",
              "           -5.39452173e-02,  8.91732723e-02,  1.89144611e-01,\n",
              "           -2.98017114e-01,  4.82687242e-02,  4.72814888e-01,\n",
              "           -4.15465951e-01,  7.61932060e-02, -6.27758384e-01,\n",
              "           -1.04428247e-01,  3.39403778e-01, -9.42686386e-03,\n",
              "            5.06635718e-02, -1.53623521e-01, -1.09693438e-01,\n",
              "           -9.56257358e-02, -5.45241117e-01, -2.42112830e-01,\n",
              "            5.34566164e-01, -4.22750153e-02, -5.21971211e-02,\n",
              "            9.78466049e-02, -2.86343724e-01, -2.20524579e-01,\n",
              "           -1.63061574e-01, -1.36645615e-01,  3.19124788e-01,\n",
              "           -9.60640833e-02,  3.82125266e-02,  1.72565490e-01,\n",
              "           -2.56317437e-01, -4.17637736e-01, -9.91636467e+00,\n",
              "           -1.93785787e-01, -9.49817449e-02, -7.51877427e-02,\n",
              "            2.97353476e-01, -4.90565076e-02, -2.62011550e-02,\n",
              "           -5.72501346e-02, -9.19741467e-02,  9.02116895e-02,\n",
              "            7.60223344e-02, -5.81068173e-03,  1.07388180e-02,\n",
              "           -1.38961896e-01, -5.24065122e-02, -2.56320834e-01,\n",
              "            2.71771014e-01,  9.06563327e-02, -2.65972987e-02,\n",
              "            3.78770679e-01, -1.47461459e-01, -3.09076726e-01,\n",
              "            2.32163221e-01, -2.20406950e-01,  1.24462359e-02,\n",
              "            5.37267685e-01, -1.10590994e-01, -9.48096514e-02,\n",
              "           -2.06809610e-01, -8.00621137e-02, -2.41871208e-01,\n",
              "           -2.58589000e-01, -1.34695679e-01,  7.03981698e-01,\n",
              "            8.71010423e-02,  3.49178538e-02, -6.53668642e-02,\n",
              "           -3.69383067e-01, -1.72219843e-01, -2.14933366e-01,\n",
              "            1.92020357e-01, -5.95516920e-01, -7.52925128e-02,\n",
              "            1.61190957e-01,  6.22886300e-01, -2.86546975e-01,\n",
              "            2.52914786e-01, -6.83544278e-02,  8.64229873e-02,\n",
              "            2.16312677e-01, -4.74534556e-03, -3.75297874e-01,\n",
              "            8.78180116e-02, -2.05599681e-01,  1.50370270e-01,\n",
              "           -1.39486089e-01,  1.36272624e-01,  7.44788945e-01,\n",
              "           -1.14753321e-01, -5.12112737e-01,  1.35526285e-01,\n",
              "           -4.19865966e-01, -5.03569365e-01,  8.99085626e-02,\n",
              "           -2.69122422e-01,  2.39958823e-01, -3.71998221e-01,\n",
              "           -4.21939790e-01, -8.00394490e-02,  6.04687445e-02,\n",
              "           -2.65722454e-01,  8.89106654e-03, -1.17016323e-01,\n",
              "           -1.32773221e+00, -9.82491076e-02,  4.01157886e-04,\n",
              "           -5.45378216e-02,  1.87570587e-01, -2.25354090e-01,\n",
              "            1.14782751e-01, -1.73530698e-01, -4.05234993e-01,\n",
              "            1.02962460e-02,  4.35638465e-02, -1.92975298e-01,\n",
              "           -2.79358149e-01,  2.83568762e-02, -2.56199151e-01,\n",
              "           -3.66031468e-01, -1.53299809e-01,  2.99361080e-01,\n",
              "            1.31888494e-01, -1.35112405e-01,  2.23981023e-01,\n",
              "            7.29688182e-02, -1.84010774e-01,  3.17855239e-01,\n",
              "           -1.10304408e-01,  2.48937935e-01, -6.06054589e-02,\n",
              "            1.22446297e-02,  2.22221494e-01,  1.22482277e-01,\n",
              "            1.29531339e-01, -3.18652019e-02, -2.48892650e-01,\n",
              "            1.12178482e-01, -4.41568308e-02, -8.37304145e-02,\n",
              "           -2.02408314e-01, -2.06323117e-02, -2.22645447e-01,\n",
              "            2.08818793e-01,  7.15246424e-05, -1.88863814e-01,\n",
              "           -3.65102261e-01,  3.58598441e-01,  5.99776134e-02,\n",
              "           -2.70460188e-01, -2.86966860e-01, -1.62037730e-01,\n",
              "            1.33928806e-01, -3.97150785e-01, -4.75101620e-01,\n",
              "           -1.35246754e-01,  9.76298004e-03, -1.14962257e-01,\n",
              "           -5.49831837e-02, -3.04573655e-01,  1.66532323e-01,\n",
              "           -1.77570105e-01, -3.22631329e-01, -2.04794884e-01,\n",
              "            2.97922879e-01,  1.35999126e-02, -2.29859263e-01,\n",
              "           -2.15069681e-01, -6.56309485e-01,  1.23608783e-01,\n",
              "           -7.11738616e-02,  2.35090449e-01,  1.17410094e-01,\n",
              "            1.28675550e-01,  3.82672548e-01,  1.23701610e-01,\n",
              "            1.00124776e-01,  2.47846752e-01,  1.33597061e-01,\n",
              "           -2.63522297e-01, -2.88562588e-02, -4.97687131e-01,\n",
              "           -3.18734109e-01,  2.23142475e-01,  9.57966372e-02,\n",
              "           -9.88122448e-03,  5.55518389e-01, -2.61336025e-02,\n",
              "           -2.73152649e-01, -2.51189880e-02, -4.88284886e-01,\n",
              "            1.64317891e-01, -3.79659757e-02,  1.31992131e-01,\n",
              "            3.92567366e-01,  1.47515796e-02,  2.28068024e-01,\n",
              "           -3.50233279e-02, -1.39359340e-01,  1.72331706e-02,\n",
              "            1.99398637e-01, -1.77853391e-01,  4.90104318e-01,\n",
              "            1.12720504e-02, -9.24155787e-02,  6.43715262e-02,\n",
              "            4.67387885e-01, -1.02998912e-01, -9.13725346e-02,\n",
              "            5.41376658e-02,  1.69138432e-01, -5.23035973e-02,\n",
              "           -1.61570087e-01, -1.20930545e-01, -2.32370302e-01,\n",
              "            3.03751171e-01,  4.97360453e-02,  3.25701423e-02,\n",
              "           -1.04717977e-01, -1.23045303e-01,  3.60436261e-01,\n",
              "           -2.60150611e-01,  4.23664361e-01, -1.45360142e-01,\n",
              "           -2.86006957e-01, -3.17749202e-01, -5.35908997e-01,\n",
              "            1.06287926e-01, -3.83595467e-01,  5.19792847e-02,\n",
              "            4.03076708e-02,  3.77470925e-02,  1.48964256e-01,\n",
              "           -3.17886919e-01,  1.53415635e-01, -2.13314250e-01,\n",
              "           -2.52271563e-01,  1.35179043e-01,  6.91420853e-01,\n",
              "            1.39100030e-01,  2.87862122e-01, -2.98909582e-02,\n",
              "           -3.14585477e-01,  1.44029051e-01, -1.32161722e-01,\n",
              "            1.31749287e-01, -6.99551031e-02, -1.15936421e-01,\n",
              "           -5.35755873e-01, -5.01908720e-01,  9.69560966e-02,\n",
              "           -3.65012765e-01,  8.89721885e-02,  6.24004640e-02,\n",
              "            1.47994002e-02, -6.32949591e-01, -2.65912205e-01,\n",
              "            1.94160208e-01, -1.33869052e-01, -1.38022751e-01,\n",
              "           -1.90203279e-01, -1.13674942e-02, -1.48339212e+00,\n",
              "            3.49926233e-01, -1.59308612e-01, -2.78927058e-01,\n",
              "            7.89671987e-02,  1.23312026e-01,  1.51632220e-01,\n",
              "            3.02143365e-01, -3.05348575e-01, -2.60464072e-01,\n",
              "           -5.20493209e-01, -5.60056008e-02,  5.19364886e-02,\n",
              "           -1.93271458e-01, -7.91655630e-02, -1.23605512e-01,\n",
              "            1.23430640e-01, -1.91422746e-01,  1.38648063e-01,\n",
              "           -3.13006103e-01,  2.84745898e-02, -1.65580139e-01,\n",
              "           -8.21816623e-02,  2.79193614e-02, -7.45513737e-01,\n",
              "           -4.24168140e-01,  7.78833181e-02, -1.91616863e-01,\n",
              "            3.01586717e-01, -2.42155716e-01, -1.68192491e-01,\n",
              "           -1.14629507e-01,  1.05716810e-01,  2.03281432e-01,\n",
              "           -2.14313537e-01,  1.68871149e-01,  4.49489057e-02,\n",
              "           -2.00010881e-01, -3.02771151e-01, -6.81350902e-02,\n",
              "           -2.65462697e-01,  2.63375118e-02, -1.07601263e-01,\n",
              "            1.38644367e-01,  1.69268101e-01, -3.98862094e-01,\n",
              "           -7.72982061e-01,  4.79617149e-01, -3.20090950e-01,\n",
              "            1.68164134e-01,  1.66958168e-01,  1.38954744e-01,\n",
              "           -2.16650963e-01, -1.26142517e-01, -2.89268136e-01,\n",
              "           -2.55332410e-01,  4.87275600e-01,  5.17519899e-02,\n",
              "            4.56110954e-01,  2.58464694e-01,  1.68434978e-01,\n",
              "           -1.00307167e-01, -8.69903788e-02,  1.13917433e-01,\n",
              "           -1.12541066e-02,  5.50510168e-01, -3.99652302e-01,\n",
              "            2.42253050e-01,  5.81359640e-02, -1.16747886e-01,\n",
              "           -2.85164982e-01,  2.56201744e-01,  1.70132011e-01,\n",
              "           -1.98963493e-01,  1.75974607e-01,  2.33480539e-02,\n",
              "           -1.64315730e-01,  6.39712960e-02,  2.94292718e-01,\n",
              "           -2.25568846e-01, -2.40126029e-01,  6.66674137e-01,\n",
              "            2.75221646e-01,  9.35397856e-03, -3.25307339e-01,\n",
              "            9.72705781e-02, -1.18057132e-01, -2.51919538e-01,\n",
              "           -6.07005917e-02,  1.74300581e-01, -1.77776925e-02,\n",
              "            3.38809997e-01, -3.71227294e-01, -2.30215669e-01,\n",
              "            5.46734810e-01, -1.41110718e-01, -7.67658055e-02,\n",
              "            2.13490918e-01,  2.01659173e-01, -1.76312551e-02,\n",
              "            1.90231130e-01, -4.27776605e-01,  6.93130568e-02,\n",
              "            9.01532620e-02, -3.27763110e-01, -5.63947447e-02,\n",
              "            4.06500474e-02,  1.08967744e-01,  1.25484273e-01,\n",
              "           -3.92640382e-01,  8.72701183e-02,  4.79987681e-01,\n",
              "            4.29002166e-01,  2.26789266e-01, -5.39576635e-02,\n",
              "           -2.38040209e-01, -5.64698502e-02,  7.40516543e-01,\n",
              "           -1.69974297e-01,  1.44112244e-01,  1.64242029e-01,\n",
              "            2.77503550e-01, -8.04574266e-02,  5.12540698e-01,\n",
              "            2.64774829e-01,  3.25766176e-01, -1.20763555e-01,\n",
              "            1.92363918e-01,  4.94511664e-01,  1.41623408e-01,\n",
              "           -1.69815347e-02, -1.21436156e-01, -5.15028685e-02,\n",
              "            1.02473639e-01,  1.18148446e-01,  2.57107526e-01,\n",
              "           -8.52575004e-02,  6.83323145e-02, -9.49933156e-02,\n",
              "            2.25752965e-01, -7.32424334e-02,  3.25064331e-01,\n",
              "           -1.79702595e-01, -2.10020877e-03,  2.99300790e-01,\n",
              "           -2.13242978e-01, -7.45770782e-02, -8.69708136e-02,\n",
              "            2.03880429e-01, -1.45556897e-01, -1.15943536e-01,\n",
              "           -4.53575641e-01, -9.41735506e-02,  1.80064380e-01,\n",
              "           -2.43873000e-01, -4.64815609e-02, -6.01151109e-01,\n",
              "            9.19091851e-02, -7.45165423e-02, -3.35011840e-01,\n",
              "            1.02991886e-01, -1.32539302e-01, -1.85637474e-01,\n",
              "            1.89308636e-02, -1.90025717e-01,  2.19423309e-01,\n",
              "           -1.86608762e-01,  8.68557468e-02,  6.54962137e-02,\n",
              "           -6.90567344e-02, -1.03758283e-01, -1.96848363e-01,\n",
              "            3.12678903e-01, -1.41966715e-01,  1.26877204e-01,\n",
              "           -1.73235193e-01,  2.82514721e-01, -3.25652242e-01,\n",
              "           -1.07692182e-01,  2.09238660e-02,  5.95185935e-01,\n",
              "           -3.17848623e-02, -1.09847188e-01, -2.95512192e-02,\n",
              "           -3.06288078e-02,  5.18724658e-02, -2.53201038e-01,\n",
              "           -1.53118983e-01, -1.42205998e-01, -1.27482012e-01,\n",
              "           -5.23572683e-01,  1.59377307e-02,  1.82592958e-01,\n",
              "           -5.45971021e-02, -7.95609057e-02,  2.02125877e-01,\n",
              "           -1.09148212e-01, -2.48347521e-01, -2.64978468e-01,\n",
              "           -7.88278952e-02,  2.57526934e-01,  2.72485912e-01,\n",
              "            4.06123474e-02, -3.02348942e-01, -1.92158371e-01,\n",
              "           -3.94513130e-01, -2.29869306e-01, -1.89634098e-03,\n",
              "            2.43000552e-01, -1.55606538e-01,  1.36936247e-01,\n",
              "           -1.52614728e-01, -2.46357515e-01,  2.33185083e-01,\n",
              "            6.50513917e-02, -5.18165603e-02, -2.52137661e-01,\n",
              "           -4.11881268e-01, -3.77238005e-01, -4.65007186e-01,\n",
              "           -1.78030923e-01,  6.21455349e-02, -1.68580443e-01,\n",
              "           -1.10751599e-01,  2.27819294e-01, -2.19131082e-01,\n",
              "           -7.27799758e-02,  2.83615559e-01, -1.36999696e-01]], dtype=float32)>},\n",
              "  {'rating': <tf.Tensor: shape=(1,), dtype=float32, numpy=array([5.], dtype=float32)>})]"
            ]
          },
          "metadata": {
            "tags": []
          },
          "execution_count": 27
        }
      ]
    },
    {
      "cell_type": "code",
      "metadata": {
        "ExecuteTime": {
          "end_time": "2021-03-31T04:46:35.933414Z",
          "start_time": "2021-03-31T04:46:06.519515Z"
        },
        "colab": {
          "base_uri": "https://localhost:8080/",
          "height": 84,
          "referenced_widgets": [
            "de44530767704519acf2851aefedcd09",
            "d804fd7aeda947dbaf57b27f88823df9",
            "0d274c646d974d53bfbf3f2ba1017638",
            "d24539171d4f40eab0ee49d00bbd66f6",
            "cccef1ffdfe24f74936fe281ebbd3058",
            "47924e3c5deb404ca9968c419bc9a4c9",
            "0570ad54283c450d86638a59537ce2c7",
            "f94714581f444b6b853df52f0584fc50"
          ]
        },
        "id": "lpggYu1imMyG",
        "outputId": "f8baec6d-44d9-4130-b080-7665de82cd88"
      },
      "source": [
        "for _ in tqdm(held_out_test_dataset, total=len(held_out_test_usable)):\n",
        "    pass\n",
        "len(embedding_cache)"
      ],
      "execution_count": null,
      "outputs": [
        {
          "output_type": "display_data",
          "data": {
            "application/vnd.jupyter.widget-view+json": {
              "model_id": "de44530767704519acf2851aefedcd09",
              "version_minor": 0,
              "version_major": 2
            },
            "text/plain": [
              "HBox(children=(FloatProgress(value=0.0, max=5358.0), HTML(value='')))"
            ]
          },
          "metadata": {
            "tags": []
          }
        },
        {
          "output_type": "stream",
          "text": [
            "\n"
          ],
          "name": "stdout"
        },
        {
          "output_type": "execute_result",
          "data": {
            "text/plain": [
              "121285"
            ]
          },
          "metadata": {
            "tags": []
          },
          "execution_count": 28
        }
      ]
    },
    {
      "cell_type": "code",
      "metadata": {
        "ExecuteTime": {
          "end_time": "2021-03-31T04:47:34.068324Z",
          "start_time": "2021-03-31T04:46:35.935098Z"
        },
        "colab": {
          "base_uri": "https://localhost:8080/",
          "height": 84,
          "referenced_widgets": [
            "5d4d514857dc45eb87af86a9d5a21828",
            "147e35bb15db4234979664b4d2428967",
            "2f5603c870814339a79c93da4a437247",
            "dbbc410266a44e0192c4cc888a7bed04",
            "7e6b8d5a2b424beebcb1311aa182b865",
            "57df11f348f0489ca80431a039f135b2",
            "b59e17ec264848d391a65d18720cec78",
            "dbaedebb1dc54e6581fcc2984c1eba8c"
          ]
        },
        "id": "-R-HWO7FdSZ-",
        "outputId": "4449f327-ccc9-432c-b12f-50ad91d79251"
      },
      "source": [
        "\n",
        "\n",
        "true_rating = np.asarray([element[1]['rating'] for element in tqdm(held_out_test_dataset.as_numpy_iterator())])\n",
        "\n",
        "predictions = deepconn.model.predict(held_out_test_dataset)\n",
        "\n",
        "error = np.square(predictions - true_rating)\n",
        "\n",
        "print(\"Held out MSE:\", np.average(error))"
      ],
      "execution_count": null,
      "outputs": [
        {
          "output_type": "display_data",
          "data": {
            "application/vnd.jupyter.widget-view+json": {
              "model_id": "5d4d514857dc45eb87af86a9d5a21828",
              "version_minor": 0,
              "version_major": 2
            },
            "text/plain": [
              "HBox(children=(FloatProgress(value=1.0, bar_style='info', max=1.0), HTML(value='')))"
            ]
          },
          "metadata": {
            "tags": []
          }
        },
        {
          "output_type": "stream",
          "text": [
            "\n",
            "Held out MSE: 0.9532903\n"
          ],
          "name": "stdout"
        }
      ]
    },
    {
      "cell_type": "code",
      "metadata": {
        "colab": {
          "base_uri": "https://localhost:8080/"
        },
        "id": "n4pVdPLZf4nB",
        "outputId": "fdd2a9a3-c6fe-48cb-efa5-ab7d972ed415"
      },
      "source": [
        "error.flatten()"
      ],
      "execution_count": null,
      "outputs": [
        {
          "output_type": "execute_result",
          "data": {
            "text/plain": [
              "array([0.4370512 , 0.00416158, 0.05604136, ..., 0.28628096, 0.26186877,\n",
              "       0.01693253], dtype=float32)"
            ]
          },
          "metadata": {
            "tags": []
          },
          "execution_count": 48
        }
      ]
    },
    {
      "cell_type": "code",
      "metadata": {
        "id": "aqirV_aQmMyG"
      },
      "source": [
        "best_indexes = np.argsort(error.flatten())[0:20]"
      ],
      "execution_count": null,
      "outputs": []
    },
    {
      "cell_type": "code",
      "metadata": {
        "id": "_IK3YHn7g34t"
      },
      "source": [
        "worst_indexes = np.argsort(error.flatten())[::-1][0:20]"
      ],
      "execution_count": null,
      "outputs": []
    },
    {
      "cell_type": "code",
      "metadata": {
        "id": "Hf4zwG-Ph5Gz"
      },
      "source": [
        "best_rows = held_out_test_usable.iloc[best_indexes,:]"
      ],
      "execution_count": null,
      "outputs": []
    },
    {
      "cell_type": "code",
      "metadata": {
        "colab": {
          "base_uri": "https://localhost:8080/"
        },
        "id": "PmFtidmmiGS-",
        "outputId": "447a8922-9605-4851-f98c-59d60a008c08"
      },
      "source": [
        "best_rows['predictions'] = predictions[best_indexes].flatten()"
      ],
      "execution_count": null,
      "outputs": [
        {
          "output_type": "stream",
          "text": [
            "/usr/local/lib/python3.7/dist-packages/ipykernel_launcher.py:1: SettingWithCopyWarning: \n",
            "A value is trying to be set on a copy of a slice from a DataFrame.\n",
            "Try using .loc[row_indexer,col_indexer] = value instead\n",
            "\n",
            "See the caveats in the documentation: https://pandas.pydata.org/pandas-docs/stable/user_guide/indexing.html#returning-a-view-versus-a-copy\n",
            "  \"\"\"Entry point for launching an IPython kernel.\n"
          ],
          "name": "stderr"
        }
      ]
    },
    {
      "cell_type": "code",
      "metadata": {
        "colab": {
          "base_uri": "https://localhost:8080/"
        },
        "id": "yNd2oNpdid_-",
        "outputId": "b141ce6f-e4e9-413a-fa80-a0d8adb2537c"
      },
      "source": [
        "best_rows['true'] = true_rating[best_indexes].flatten()"
      ],
      "execution_count": null,
      "outputs": [
        {
          "output_type": "stream",
          "text": [
            "/usr/local/lib/python3.7/dist-packages/ipykernel_launcher.py:1: SettingWithCopyWarning: \n",
            "A value is trying to be set on a copy of a slice from a DataFrame.\n",
            "Try using .loc[row_indexer,col_indexer] = value instead\n",
            "\n",
            "See the caveats in the documentation: https://pandas.pydata.org/pandas-docs/stable/user_guide/indexing.html#returning-a-view-versus-a-copy\n",
            "  \"\"\"Entry point for launching an IPython kernel.\n"
          ],
          "name": "stderr"
        }
      ]
    },
    {
      "cell_type": "code",
      "metadata": {
        "id": "yez9CgwFe0Nj"
      },
      "source": [
        "worst_rows = held_out_test_usable.iloc[worst_indexes,:]"
      ],
      "execution_count": null,
      "outputs": []
    },
    {
      "cell_type": "code",
      "metadata": {
        "colab": {
          "base_uri": "https://localhost:8080/"
        },
        "id": "BpBU8ETLgfrl",
        "outputId": "5df5391b-afe8-493b-81cf-ce45aa5bcf31"
      },
      "source": [
        "worst_rows['predictions'] = predictions[worst_indexes].flatten()"
      ],
      "execution_count": null,
      "outputs": [
        {
          "output_type": "stream",
          "text": [
            "/usr/local/lib/python3.7/dist-packages/ipykernel_launcher.py:1: SettingWithCopyWarning: \n",
            "A value is trying to be set on a copy of a slice from a DataFrame.\n",
            "Try using .loc[row_indexer,col_indexer] = value instead\n",
            "\n",
            "See the caveats in the documentation: https://pandas.pydata.org/pandas-docs/stable/user_guide/indexing.html#returning-a-view-versus-a-copy\n",
            "  \"\"\"Entry point for launching an IPython kernel.\n"
          ],
          "name": "stderr"
        }
      ]
    },
    {
      "cell_type": "code",
      "metadata": {
        "id": "20IOoU3tdfZ1",
        "colab": {
          "base_uri": "https://localhost:8080/"
        },
        "outputId": "6e40836d-980e-4003-b05f-72629d0e9241"
      },
      "source": [
        "worst_rows['true'] = true_rating[worst_indexes].flatten()"
      ],
      "execution_count": null,
      "outputs": [
        {
          "output_type": "stream",
          "text": [
            "/usr/local/lib/python3.7/dist-packages/ipykernel_launcher.py:1: SettingWithCopyWarning: \n",
            "A value is trying to be set on a copy of a slice from a DataFrame.\n",
            "Try using .loc[row_indexer,col_indexer] = value instead\n",
            "\n",
            "See the caveats in the documentation: https://pandas.pydata.org/pandas-docs/stable/user_guide/indexing.html#returning-a-view-versus-a-copy\n",
            "  \"\"\"Entry point for launching an IPython kernel.\n"
          ],
          "name": "stderr"
        }
      ]
    },
    {
      "cell_type": "code",
      "metadata": {
        "id": "ddsMUIOdeZ9J"
      },
      "source": [
        "best_rows.to_pickle('/content/drive/MyDrive/W266/data/best_rows_held_out_test.pkl')"
      ],
      "execution_count": null,
      "outputs": []
    },
    {
      "cell_type": "code",
      "metadata": {
        "id": "nUltlFu-evRX"
      },
      "source": [
        "worst_rows.to_pickle('/content/drive/MyDrive/W266/data/worst_rows_held_out_test.pkl')"
      ],
      "execution_count": null,
      "outputs": []
    },
    {
      "cell_type": "code",
      "metadata": {
        "id": "K2y5pBd6Qi5I",
        "colab": {
          "base_uri": "https://localhost:8080/",
          "height": 677
        },
        "outputId": "6dfe8d12-8147-473e-e59b-a3edf1a48c7c"
      },
      "source": [
        "worst_rows"
      ],
      "execution_count": null,
      "outputs": [
        {
          "output_type": "execute_result",
          "data": {
            "text/html": [
              "<div>\n",
              "<style scoped>\n",
              "    .dataframe tbody tr th:only-of-type {\n",
              "        vertical-align: middle;\n",
              "    }\n",
              "\n",
              "    .dataframe tbody tr th {\n",
              "        vertical-align: top;\n",
              "    }\n",
              "\n",
              "    .dataframe thead th {\n",
              "        text-align: right;\n",
              "    }\n",
              "</style>\n",
              "<table border=\"1\" class=\"dataframe\">\n",
              "  <thead>\n",
              "    <tr style=\"text-align: right;\">\n",
              "      <th></th>\n",
              "      <th>asin</th>\n",
              "      <th>reviewerID</th>\n",
              "      <th>overall</th>\n",
              "      <th>predictions</th>\n",
              "      <th>true</th>\n",
              "    </tr>\n",
              "  </thead>\n",
              "  <tbody>\n",
              "    <tr>\n",
              "      <th>37648</th>\n",
              "      <td>B000Q35RWW</td>\n",
              "      <td>A1M3NVR8A3O627</td>\n",
              "      <td>1</td>\n",
              "      <td>5.699615</td>\n",
              "      <td>1.0</td>\n",
              "    </tr>\n",
              "    <tr>\n",
              "      <th>12447</th>\n",
              "      <td>B003Y5H5HO</td>\n",
              "      <td>A1MUWEU4V3HORF</td>\n",
              "      <td>1</td>\n",
              "      <td>5.088216</td>\n",
              "      <td>1.0</td>\n",
              "    </tr>\n",
              "    <tr>\n",
              "      <th>3198</th>\n",
              "      <td>B00LT1JHLW</td>\n",
              "      <td>A2BR12BYIGV1ER</td>\n",
              "      <td>1</td>\n",
              "      <td>4.945236</td>\n",
              "      <td>1.0</td>\n",
              "    </tr>\n",
              "    <tr>\n",
              "      <th>50633</th>\n",
              "      <td>B0024OW1QQ</td>\n",
              "      <td>A2BIZGEDXXIUB8</td>\n",
              "      <td>1</td>\n",
              "      <td>4.863760</td>\n",
              "      <td>1.0</td>\n",
              "    </tr>\n",
              "    <tr>\n",
              "      <th>63381</th>\n",
              "      <td>6304400810</td>\n",
              "      <td>A2W8GURWX2CGQ6</td>\n",
              "      <td>1</td>\n",
              "      <td>4.820872</td>\n",
              "      <td>1.0</td>\n",
              "    </tr>\n",
              "    <tr>\n",
              "      <th>36282</th>\n",
              "      <td>B000M2E340</td>\n",
              "      <td>A3JXCEVAFDJE18</td>\n",
              "      <td>1</td>\n",
              "      <td>4.807574</td>\n",
              "      <td>1.0</td>\n",
              "    </tr>\n",
              "    <tr>\n",
              "      <th>62896</th>\n",
              "      <td>6304233639</td>\n",
              "      <td>AG6UYD56VHOG1</td>\n",
              "      <td>1</td>\n",
              "      <td>4.774708</td>\n",
              "      <td>1.0</td>\n",
              "    </tr>\n",
              "    <tr>\n",
              "      <th>23960</th>\n",
              "      <td>B00AIA884W</td>\n",
              "      <td>ADFDWNGYTD21T</td>\n",
              "      <td>1</td>\n",
              "      <td>4.765383</td>\n",
              "      <td>1.0</td>\n",
              "    </tr>\n",
              "    <tr>\n",
              "      <th>1230</th>\n",
              "      <td>B00HLTDARS</td>\n",
              "      <td>A20WDC2GRICESE</td>\n",
              "      <td>1</td>\n",
              "      <td>4.671177</td>\n",
              "      <td>1.0</td>\n",
              "    </tr>\n",
              "    <tr>\n",
              "      <th>45359</th>\n",
              "      <td>B0017APPSE</td>\n",
              "      <td>A2405BPZN0OWT4</td>\n",
              "      <td>1</td>\n",
              "      <td>4.649218</td>\n",
              "      <td>1.0</td>\n",
              "    </tr>\n",
              "    <tr>\n",
              "      <th>42921</th>\n",
              "      <td>B0012QE4Q2</td>\n",
              "      <td>A2405BPZN0OWT4</td>\n",
              "      <td>1</td>\n",
              "      <td>4.645895</td>\n",
              "      <td>1.0</td>\n",
              "    </tr>\n",
              "    <tr>\n",
              "      <th>54099</th>\n",
              "      <td>B003Q6D2B4</td>\n",
              "      <td>AW416Y74L29ZT</td>\n",
              "      <td>1</td>\n",
              "      <td>4.639812</td>\n",
              "      <td>1.0</td>\n",
              "    </tr>\n",
              "    <tr>\n",
              "      <th>18513</th>\n",
              "      <td>B005OZVXCU</td>\n",
              "      <td>A1UH9JF3ZS2X5M</td>\n",
              "      <td>1</td>\n",
              "      <td>4.632979</td>\n",
              "      <td>1.0</td>\n",
              "    </tr>\n",
              "    <tr>\n",
              "      <th>3806</th>\n",
              "      <td>B00NG3X9OW</td>\n",
              "      <td>A1SWLQMDCKOZHU</td>\n",
              "      <td>1</td>\n",
              "      <td>4.606437</td>\n",
              "      <td>1.0</td>\n",
              "    </tr>\n",
              "    <tr>\n",
              "      <th>39727</th>\n",
              "      <td>B000WMFZII</td>\n",
              "      <td>A3PQZ3PNGMIHYZ</td>\n",
              "      <td>1</td>\n",
              "      <td>4.566392</td>\n",
              "      <td>1.0</td>\n",
              "    </tr>\n",
              "    <tr>\n",
              "      <th>46374</th>\n",
              "      <td>B001AZIRZO</td>\n",
              "      <td>A37V77TS2AQRFD</td>\n",
              "      <td>1</td>\n",
              "      <td>4.543511</td>\n",
              "      <td>1.0</td>\n",
              "    </tr>\n",
              "    <tr>\n",
              "      <th>13686</th>\n",
              "      <td>B004EPZ07K</td>\n",
              "      <td>A24OOYHXSDUN6Q</td>\n",
              "      <td>5</td>\n",
              "      <td>1.457403</td>\n",
              "      <td>5.0</td>\n",
              "    </tr>\n",
              "    <tr>\n",
              "      <th>28977</th>\n",
              "      <td>B0001VL0KC</td>\n",
              "      <td>A2TB1DTJO07RXR</td>\n",
              "      <td>1</td>\n",
              "      <td>4.535765</td>\n",
              "      <td>1.0</td>\n",
              "    </tr>\n",
              "    <tr>\n",
              "      <th>64303</th>\n",
              "      <td>6304846126</td>\n",
              "      <td>A2BXTKDXE61DNF</td>\n",
              "      <td>1</td>\n",
              "      <td>4.525858</td>\n",
              "      <td>1.0</td>\n",
              "    </tr>\n",
              "    <tr>\n",
              "      <th>62519</th>\n",
              "      <td>6304083149</td>\n",
              "      <td>A2SP52NH44LRDS</td>\n",
              "      <td>1</td>\n",
              "      <td>4.522731</td>\n",
              "      <td>1.0</td>\n",
              "    </tr>\n",
              "  </tbody>\n",
              "</table>\n",
              "</div>"
            ],
            "text/plain": [
              "             asin      reviewerID  overall  predictions  true\n",
              "37648  B000Q35RWW  A1M3NVR8A3O627        1     5.699615   1.0\n",
              "12447  B003Y5H5HO  A1MUWEU4V3HORF        1     5.088216   1.0\n",
              "3198   B00LT1JHLW  A2BR12BYIGV1ER        1     4.945236   1.0\n",
              "50633  B0024OW1QQ  A2BIZGEDXXIUB8        1     4.863760   1.0\n",
              "63381  6304400810  A2W8GURWX2CGQ6        1     4.820872   1.0\n",
              "36282  B000M2E340  A3JXCEVAFDJE18        1     4.807574   1.0\n",
              "62896  6304233639   AG6UYD56VHOG1        1     4.774708   1.0\n",
              "23960  B00AIA884W   ADFDWNGYTD21T        1     4.765383   1.0\n",
              "1230   B00HLTDARS  A20WDC2GRICESE        1     4.671177   1.0\n",
              "45359  B0017APPSE  A2405BPZN0OWT4        1     4.649218   1.0\n",
              "42921  B0012QE4Q2  A2405BPZN0OWT4        1     4.645895   1.0\n",
              "54099  B003Q6D2B4   AW416Y74L29ZT        1     4.639812   1.0\n",
              "18513  B005OZVXCU  A1UH9JF3ZS2X5M        1     4.632979   1.0\n",
              "3806   B00NG3X9OW  A1SWLQMDCKOZHU        1     4.606437   1.0\n",
              "39727  B000WMFZII  A3PQZ3PNGMIHYZ        1     4.566392   1.0\n",
              "46374  B001AZIRZO  A37V77TS2AQRFD        1     4.543511   1.0\n",
              "13686  B004EPZ07K  A24OOYHXSDUN6Q        5     1.457403   5.0\n",
              "28977  B0001VL0KC  A2TB1DTJO07RXR        1     4.535765   1.0\n",
              "64303  6304846126  A2BXTKDXE61DNF        1     4.525858   1.0\n",
              "62519  6304083149  A2SP52NH44LRDS        1     4.522731   1.0"
            ]
          },
          "metadata": {
            "tags": []
          },
          "execution_count": 40
        }
      ]
    },
    {
      "cell_type": "code",
      "metadata": {
        "id": "buytJ2TJev5v"
      },
      "source": [
        "review_lists_good = fast_get_embeddings(user_sorted_held_out, item_sorted_held_out, held_out_test_usable.iloc[2080], 'reviewText')"
      ],
      "execution_count": null,
      "outputs": []
    },
    {
      "cell_type": "code",
      "metadata": {
        "colab": {
          "base_uri": "https://localhost:8080/"
        },
        "id": "v2n1sIJbe7nW",
        "outputId": "e6c91733-2d99-473a-e03f-0d089401696b"
      },
      "source": [
        "review_lists_good"
      ],
      "execution_count": null,
      "outputs": [
        {
          "output_type": "execute_result",
          "data": {
            "text/plain": [
              "{'itemReviews':              asin  ...                                         reviewText\n",
              " 22476  B00947NAHU  ...  I really like this movie.  While a bit on the ...\n",
              " 22449  B00947NAHU  ...  Django was entertaining from beginning to end,...\n",
              " 22477  B00947NAHU  ...  From beginning to end, full of action, a great...\n",
              " 22474  B00947NAHU  ...  Only Quentin Tarentino film I've ever really l...\n",
              " 22473  B00947NAHU  ...  Tarantino creates a film that is enjoyable on ...\n",
              " 22472  B00947NAHU  ...  Good movie, does not kill as many as Arnold bu...\n",
              " 22471  B00947NAHU  ...  Tarantino's style with excellent performance. ...\n",
              " 22470  B00947NAHU  ...  Jamie was wonderful, don't know why he did not...\n",
              " 22475  B00947NAHU  ...  Acting was superb. Excellent movie. I am very ...\n",
              " 22468  B00947NAHU  ...  If you are a Quinten Tarrantino fan, you have ...\n",
              " 22466  B00947NAHU  ...  I had heard so many reviews about the story be...\n",
              " 22462  B00947NAHU  ...  This is a A++++ must buy movie to add to your ...\n",
              " 22461  B00947NAHU  ...  Comedy, action, romance, social commentary, bl...\n",
              " 22469  B00947NAHU  ...  That said, you have to be able to get past the...\n",
              " 22459  B00947NAHU  ...  This action pack movie was filled with excitem...\n",
              " 22460  B00947NAHU  ...  It was quite a different DVD than I viewed bef...\n",
              " 22450  B00947NAHU  ...  If you are a blood and guts fan, you will love...\n",
              " 22451  B00947NAHU  ...  this is a very good movie.  jamie foxx does a ...\n",
              " 22452  B00947NAHU  ...  It wasn't my favorite tarantino. The script, I...\n",
              " 22453  B00947NAHU  ...  I am normally all about these movies. I couldn...\n",
              " 22455  B00947NAHU  ...  I really don't know why I have to write anythi...\n",
              " 22454  B00947NAHU  ...  To me, this movie did not live up to the hype....\n",
              " 22457  B00947NAHU  ...  What can I say!  This was a great movie, I don...\n",
              " 22458  B00947NAHU  ...  I thought this was a very good movie.  It is w...\n",
              " \n",
              " [24 rows x 3 columns],\n",
              " 'userReviews':              asin  ...                                         reviewText\n",
              " 22819  B009AMAOTQ  ...  The movie was funny, warm, touching, and overa...\n",
              " 18037  B005LAIIJY  ...  Not exactly the story I was expecting.  It was...\n",
              " 2790   B00KQTGWPC  ...  We really enjoyed this movie.  It's funny and ...\n",
              " 1011   B00H7LJ2UO  ...  I liked the movie.  Some parts hit a little cl...\n",
              " 26291  B00CBG9SQS  ...  It is a great movie.  Really entertaining stor...\n",
              " 325    B00G7M190U  ...  Thoroughly enjoyed the movie!  We almost didn'...\n",
              " 251    B00G3D732Q  ...  AMAZING movie (from an even more amazing book)...\n",
              " 26465  B00CJ5BG8Y  ...  We rarely stop watching a movie - even a bad o...\n",
              " 27451  B00DL477I0  ...  I was surprised that the movie actually had a ...\n",
              " \n",
              " [9 rows x 3 columns]}"
            ]
          },
          "metadata": {
            "tags": []
          },
          "execution_count": 41
        }
      ]
    },
    {
      "cell_type": "code",
      "metadata": {
        "id": "p83wXV7Qe8ZG"
      },
      "source": [
        ""
      ],
      "execution_count": null,
      "outputs": []
    }
  ]
}